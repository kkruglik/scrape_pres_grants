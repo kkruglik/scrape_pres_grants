{
 "cells": [
  {
   "cell_type": "code",
   "execution_count": 35,
   "id": "138553da",
   "metadata": {},
   "outputs": [],
   "source": [
    "from selenium import webdriver\n",
    "from selenium.webdriver.chrome.options import Options\n",
    "from selenium.webdriver.support.ui import WebDriverWait\n",
    "from selenium.webdriver.support import expected_conditions as EC\n",
    "from selenium.webdriver.common.by import By\n",
    "from selenium.common.exceptions import NoSuchElementException, ElementNotInteractableException, TimeoutException, StaleElementReferenceException, ElementClickInterceptedException\n",
    "from webdriver_manager.chrome import ChromeDriverManager\n",
    "\n",
    "import time\n",
    "import re\n",
    "import pandas as pd\n",
    "\n",
    "from tqdm.notebook import tqdm\n",
    "from collections import defaultdict\n",
    "\n",
    "from bs4 import BeautifulSoup\n",
    "import requests"
   ]
  },
  {
   "cell_type": "markdown",
   "id": "3c37d83c",
   "metadata": {},
   "source": [
    "## Что нужно собрать:\n",
    "* Гиперссылка на проект\n",
    "* Название проекта\n",
    "* Организация\n",
    "* Конкурс\n",
    "* Запрашиваемая сумма\n",
    "* Cофинансирование\n",
    "* Общая сумма расходов на реализацию проекта\n",
    "* Цель\n",
    "* Краткое описание\n",
    "* Статус проекта\n",
    "* Номер заявки (индекс таблицы)\n",
    "* Дата подачи\n",
    "* Сроки реализации\n",
    "* ИНН\n",
    "* ОГРН"
   ]
  },
  {
   "cell_type": "code",
   "execution_count": 2,
   "id": "b4cb0078",
   "metadata": {},
   "outputs": [],
   "source": [
    "start_url = 'https://президентскиегранты.рф/public/application/cards?SearchString=&Statuses%5B0%5D.Name=%D0%BF%D0%BE%D0%B1%D0%B5%D0%B4%D0%B8%D1%82%D0%B5%D0%BB%D1%8C+%D0%BA%D0%BE%D0%BD%D0%BA%D1%83%D1%80%D1%81%D0%B0&Statuses%5B1%5D.Name=%D0%BD%D0%B0+%D0%BD%D0%B5%D0%B7%D0%B0%D0%B2%D0%B8%D1%81%D0%B8%D0%BC%D0%BE%D0%B9+%D1%8D%D0%BA%D1%81%D0%BF%D0%B5%D1%80%D1%82%D0%B8%D0%B7%D0%B5&Statuses%5B2%5D.Name=%D0%BF%D1%80%D0%BE%D0%B5%D0%BA%D1%82+%D0%BD%D0%B5+%D0%BF%D0%BE%D0%BB%D1%83%D1%87%D0%B8%D0%BB+%D0%BF%D0%BE%D0%B4%D0%B4%D0%B5%D1%80%D0%B6%D0%BA%D1%83&RegionId=&AreaCityId=&ContestDirectionTenantId=36568399-3aff-45f4-b418-d5362caf4595&IsNormalTermProjects=true&IsLongTermProjects=true&CompetitionId=&DateFrom=&DateTo=&Statuses%5B0%5D.Selected=false&Statuses%5B1%5D.Selected=false&Statuses%5B2%5D.Selected=false&IsNormalTermProjects=false&IsLongTermProjects=false'"
   ]
  },
  {
   "cell_type": "code",
   "execution_count": 93,
   "id": "c3b9721f",
   "metadata": {},
   "outputs": [
    {
     "name": "stdout",
     "output_type": "stream",
     "text": [
      "\n"
     ]
    }
   ],
   "source": [
    "browser = webdriver.Chrome(ChromeDriverManager().install(), ) # options=chrome_options\n",
    "timeout = 10"
   ]
  },
  {
   "cell_type": "code",
   "execution_count": 5,
   "id": "8ad6f597",
   "metadata": {},
   "outputs": [],
   "source": [
    "def scrape_links():\n",
    "    table_project = browser.find_element_by_xpath(\"//div[@class='table table--p-present table--projects']\")\n",
    "    project_links = []\n",
    "    for i in table_project.find_elements_by_tag_name('a'):\n",
    "        project_links.append(i.get_attribute('href'))\n",
    "    return project_links"
   ]
  },
  {
   "cell_type": "code",
   "execution_count": 121,
   "id": "d94a1f6a",
   "metadata": {},
   "outputs": [],
   "source": [
    "def scrape_elems(link):\n",
    "    \n",
    "    # load new page\n",
    "    browser.get(link)\n",
    "    WebDriverWait(browser, timeout).until(\n",
    "                    lambda browser: browser.find_element(By.XPATH, \"//div[@id='winner-aims']\"))\n",
    "    time.sleep(1)\n",
    "    \n",
    "    status = browser.find_element_by_xpath(\"//p[@class='winner-info__status']//span\").text\n",
    "    title = browser.find_element_by_tag_name('h2').text\n",
    "    \n",
    "    # сбор информации в content winner\n",
    "    info = browser.find_element_by_xpath(\"//ul[@class='winner-info__list winner-info__item']\")\n",
    "    info_elems = info.find_elements_by_xpath(\"//span[@class='winner-info__list-item-text']\")\n",
    "    \n",
    "    # если проект получил финансирование, то в контенте есть поле рейтинга, которое не нужно\n",
    "    if len(info_elems) == 8:\n",
    "        competition_year = info_elems[0].text\n",
    "        grant_direction = info_elems[1].text\n",
    "        app_number = info_elems[2].text\n",
    "        app_date = info_elems[3].text\n",
    "        implementation_terms = info_elems[4].text\n",
    "        organization = info_elems[5].text\n",
    "        inn = info_elems[6].text\n",
    "        ogrn = info_elems[7].text\n",
    "    \n",
    "    else:\n",
    "        competition_year = info_elems[0].text\n",
    "        grant_direction = info_elems[1].text\n",
    "        app_number = info_elems[3].text\n",
    "        app_date = info_elems[4].text\n",
    "        implementation_terms = info_elems[5].text\n",
    "        organization = info_elems[6].text\n",
    "        inn = info_elems[7].text\n",
    "        ogrn = info_elems[8].text\n",
    "    \n",
    "    money = browser.find_element_by_xpath(\"//ul[@class='circle-bar__info']\")\n",
    "    money_elems = money.find_elements_by_xpath(\"//span[@class='circle-bar__info-item-number']\")\n",
    "    requested_money = money_elems[0].text\n",
    "    cofinancing = money_elems[1].text\n",
    "    total_money = money_elems[2].text\n",
    "    \n",
    "    \n",
    "    # сбор информации с кратким описанием проекта\n",
    "    summary = browser.find_element_by_xpath(\"//div[@id='winner-summary']\").text.split('\\n')[1]\n",
    "    target = browser.find_element_by_xpath(\"//div[@id='winner-aims']\").find_element_by_tag_name('li').text\n",
    "    \n",
    "    return status, title, link, competition_year, grant_direction, app_number, app_date, \\\n",
    "            implementation_terms, organization, inn, ogrn, summary, target, requested_money, cofinancing, total_money"
   ]
  },
  {
   "cell_type": "code",
   "execution_count": 33,
   "id": "b941c3e8",
   "metadata": {},
   "outputs": [],
   "source": [
    "def project_data_to_df(data, out_df):\n",
    "    cols = ['status', 'title', 'links', 'competition_year', 'grant_direction', 'app_number', 'app_date', \\\n",
    "            'implementation_terms', 'organization', 'inn', 'ogrn', 'summary', 'target', 'requested_money', 'cofinancing', 'total_money']\n",
    "    if out_df is None:\n",
    "        out_df = pd.DataFrame(data, columns=cols)\n",
    "    else:\n",
    "        out_df = pd.concat([out_df, pd.DataFrame(data, columns=cols)])\n",
    "    return out_df"
   ]
  },
  {
   "cell_type": "code",
   "execution_count": 53,
   "id": "0b38f462",
   "metadata": {
    "scrolled": false
   },
   "outputs": [
    {
     "data": {
      "application/vnd.jupyter.widget-view+json": {
       "model_id": "32aaf2a7b47e460da01b37c0d4ddf1ec",
       "version_major": 2,
       "version_minor": 0
      },
      "text/plain": [
       "  0%|          | 0/92 [00:00<?, ?it/s]"
      ]
     },
     "metadata": {},
     "output_type": "display_data"
    },
    {
     "data": {
      "application/vnd.jupyter.widget-view+json": {
       "model_id": "194a50b3c5e34f39baf3f203ce8ad54c",
       "version_major": 2,
       "version_minor": 0
      },
      "text/plain": [
       "  0%|          | 0/20 [00:00<?, ?it/s]"
      ]
     },
     "metadata": {},
     "output_type": "display_data"
    },
    {
     "data": {
      "application/vnd.jupyter.widget-view+json": {
       "model_id": "0ac483eceb6046e38503591563aafd5c",
       "version_major": 2,
       "version_minor": 0
      },
      "text/plain": [
       "  0%|          | 0/20 [00:00<?, ?it/s]"
      ]
     },
     "metadata": {},
     "output_type": "display_data"
    },
    {
     "data": {
      "application/vnd.jupyter.widget-view+json": {
       "model_id": "1ae3e1dafdd4429f9e74a20001e08798",
       "version_major": 2,
       "version_minor": 0
      },
      "text/plain": [
       "  0%|          | 0/20 [00:00<?, ?it/s]"
      ]
     },
     "metadata": {},
     "output_type": "display_data"
    },
    {
     "data": {
      "application/vnd.jupyter.widget-view+json": {
       "model_id": "e78f0865f1ea40f1b6f29dd3448f0263",
       "version_major": 2,
       "version_minor": 0
      },
      "text/plain": [
       "  0%|          | 0/20 [00:00<?, ?it/s]"
      ]
     },
     "metadata": {},
     "output_type": "display_data"
    },
    {
     "data": {
      "application/vnd.jupyter.widget-view+json": {
       "model_id": "79c66f599407421396b2d95f6d870d96",
       "version_major": 2,
       "version_minor": 0
      },
      "text/plain": [
       "  0%|          | 0/20 [00:00<?, ?it/s]"
      ]
     },
     "metadata": {},
     "output_type": "display_data"
    },
    {
     "data": {
      "application/vnd.jupyter.widget-view+json": {
       "model_id": "f960168388e94b9e8df52ace114a2165",
       "version_major": 2,
       "version_minor": 0
      },
      "text/plain": [
       "  0%|          | 0/20 [00:00<?, ?it/s]"
      ]
     },
     "metadata": {},
     "output_type": "display_data"
    },
    {
     "data": {
      "application/vnd.jupyter.widget-view+json": {
       "model_id": "425a606593be4c7f9a95701b849c0822",
       "version_major": 2,
       "version_minor": 0
      },
      "text/plain": [
       "  0%|          | 0/20 [00:00<?, ?it/s]"
      ]
     },
     "metadata": {},
     "output_type": "display_data"
    },
    {
     "data": {
      "application/vnd.jupyter.widget-view+json": {
       "model_id": "c11f884d98fc41eca699ce9fdad351a7",
       "version_major": 2,
       "version_minor": 0
      },
      "text/plain": [
       "  0%|          | 0/20 [00:00<?, ?it/s]"
      ]
     },
     "metadata": {},
     "output_type": "display_data"
    },
    {
     "data": {
      "application/vnd.jupyter.widget-view+json": {
       "model_id": "d15601d3f72549e8816972ad65e82df5",
       "version_major": 2,
       "version_minor": 0
      },
      "text/plain": [
       "  0%|          | 0/20 [00:00<?, ?it/s]"
      ]
     },
     "metadata": {},
     "output_type": "display_data"
    },
    {
     "data": {
      "application/vnd.jupyter.widget-view+json": {
       "model_id": "02d83746a72f462c92c6be6e29efd73e",
       "version_major": 2,
       "version_minor": 0
      },
      "text/plain": [
       "  0%|          | 0/20 [00:00<?, ?it/s]"
      ]
     },
     "metadata": {},
     "output_type": "display_data"
    },
    {
     "data": {
      "application/vnd.jupyter.widget-view+json": {
       "model_id": "3712a5f2dc054633af35e09cdf2e7484",
       "version_major": 2,
       "version_minor": 0
      },
      "text/plain": [
       "  0%|          | 0/20 [00:00<?, ?it/s]"
      ]
     },
     "metadata": {},
     "output_type": "display_data"
    },
    {
     "data": {
      "application/vnd.jupyter.widget-view+json": {
       "model_id": "87cf5600fc614f1eb3ae60576d9de161",
       "version_major": 2,
       "version_minor": 0
      },
      "text/plain": [
       "  0%|          | 0/20 [00:00<?, ?it/s]"
      ]
     },
     "metadata": {},
     "output_type": "display_data"
    },
    {
     "data": {
      "application/vnd.jupyter.widget-view+json": {
       "model_id": "2d27893cc5d3449a9b16eaecc483617b",
       "version_major": 2,
       "version_minor": 0
      },
      "text/plain": [
       "  0%|          | 0/20 [00:00<?, ?it/s]"
      ]
     },
     "metadata": {},
     "output_type": "display_data"
    },
    {
     "data": {
      "application/vnd.jupyter.widget-view+json": {
       "model_id": "860183892a354600a4e6564bc6c39078",
       "version_major": 2,
       "version_minor": 0
      },
      "text/plain": [
       "  0%|          | 0/20 [00:00<?, ?it/s]"
      ]
     },
     "metadata": {},
     "output_type": "display_data"
    },
    {
     "data": {
      "application/vnd.jupyter.widget-view+json": {
       "model_id": "22d1d4c5fb6e4bbc88c1f9529574c1ce",
       "version_major": 2,
       "version_minor": 0
      },
      "text/plain": [
       "  0%|          | 0/20 [00:00<?, ?it/s]"
      ]
     },
     "metadata": {},
     "output_type": "display_data"
    },
    {
     "data": {
      "application/vnd.jupyter.widget-view+json": {
       "model_id": "d8ec596f9e1d4483aab5a149606809b9",
       "version_major": 2,
       "version_minor": 0
      },
      "text/plain": [
       "  0%|          | 0/20 [00:00<?, ?it/s]"
      ]
     },
     "metadata": {},
     "output_type": "display_data"
    },
    {
     "data": {
      "application/vnd.jupyter.widget-view+json": {
       "model_id": "39c4c3ca31154b53861b1616dd57e646",
       "version_major": 2,
       "version_minor": 0
      },
      "text/plain": [
       "  0%|          | 0/20 [00:00<?, ?it/s]"
      ]
     },
     "metadata": {},
     "output_type": "display_data"
    },
    {
     "data": {
      "application/vnd.jupyter.widget-view+json": {
       "model_id": "5e5974612caf4bacb459faa3d33caa35",
       "version_major": 2,
       "version_minor": 0
      },
      "text/plain": [
       "  0%|          | 0/20 [00:00<?, ?it/s]"
      ]
     },
     "metadata": {},
     "output_type": "display_data"
    },
    {
     "data": {
      "application/vnd.jupyter.widget-view+json": {
       "model_id": "d3cf297a73624c23b3a5f9c605aaef2a",
       "version_major": 2,
       "version_minor": 0
      },
      "text/plain": [
       "  0%|          | 0/20 [00:00<?, ?it/s]"
      ]
     },
     "metadata": {},
     "output_type": "display_data"
    },
    {
     "data": {
      "application/vnd.jupyter.widget-view+json": {
       "model_id": "697ec973b2fa4d71997d35f209f17553",
       "version_major": 2,
       "version_minor": 0
      },
      "text/plain": [
       "  0%|          | 0/20 [00:00<?, ?it/s]"
      ]
     },
     "metadata": {},
     "output_type": "display_data"
    },
    {
     "data": {
      "application/vnd.jupyter.widget-view+json": {
       "model_id": "0da8a8d3d5794edf9a03bd893986b7ef",
       "version_major": 2,
       "version_minor": 0
      },
      "text/plain": [
       "  0%|          | 0/20 [00:00<?, ?it/s]"
      ]
     },
     "metadata": {},
     "output_type": "display_data"
    },
    {
     "data": {
      "application/vnd.jupyter.widget-view+json": {
       "model_id": "ab22206df0f14a10b5a11a695043e514",
       "version_major": 2,
       "version_minor": 0
      },
      "text/plain": [
       "  0%|          | 0/20 [00:00<?, ?it/s]"
      ]
     },
     "metadata": {},
     "output_type": "display_data"
    },
    {
     "data": {
      "application/vnd.jupyter.widget-view+json": {
       "model_id": "997e8369c04e42bc8d521dafd4c79edf",
       "version_major": 2,
       "version_minor": 0
      },
      "text/plain": [
       "  0%|          | 0/20 [00:00<?, ?it/s]"
      ]
     },
     "metadata": {},
     "output_type": "display_data"
    },
    {
     "data": {
      "application/vnd.jupyter.widget-view+json": {
       "model_id": "311a15b73f43422bb32a1863dbe5dee7",
       "version_major": 2,
       "version_minor": 0
      },
      "text/plain": [
       "  0%|          | 0/20 [00:00<?, ?it/s]"
      ]
     },
     "metadata": {},
     "output_type": "display_data"
    },
    {
     "data": {
      "application/vnd.jupyter.widget-view+json": {
       "model_id": "490d2afbb6314e799e2901e37608ea62",
       "version_major": 2,
       "version_minor": 0
      },
      "text/plain": [
       "  0%|          | 0/20 [00:00<?, ?it/s]"
      ]
     },
     "metadata": {},
     "output_type": "display_data"
    },
    {
     "data": {
      "application/vnd.jupyter.widget-view+json": {
       "model_id": "0e8636cbd1c34226a9fcd3703c412fd7",
       "version_major": 2,
       "version_minor": 0
      },
      "text/plain": [
       "  0%|          | 0/20 [00:00<?, ?it/s]"
      ]
     },
     "metadata": {},
     "output_type": "display_data"
    },
    {
     "data": {
      "application/vnd.jupyter.widget-view+json": {
       "model_id": "ac231a376f6446f19b2743afffea3d30",
       "version_major": 2,
       "version_minor": 0
      },
      "text/plain": [
       "  0%|          | 0/20 [00:00<?, ?it/s]"
      ]
     },
     "metadata": {},
     "output_type": "display_data"
    },
    {
     "data": {
      "application/vnd.jupyter.widget-view+json": {
       "model_id": "8cc089596a0e4f8a82c69e09daaab8a6",
       "version_major": 2,
       "version_minor": 0
      },
      "text/plain": [
       "  0%|          | 0/20 [00:00<?, ?it/s]"
      ]
     },
     "metadata": {},
     "output_type": "display_data"
    },
    {
     "data": {
      "application/vnd.jupyter.widget-view+json": {
       "model_id": "223ef95bb4834719a6e44d82d480d7bd",
       "version_major": 2,
       "version_minor": 0
      },
      "text/plain": [
       "  0%|          | 0/20 [00:00<?, ?it/s]"
      ]
     },
     "metadata": {},
     "output_type": "display_data"
    },
    {
     "data": {
      "application/vnd.jupyter.widget-view+json": {
       "model_id": "082945aa62014f0187d1cbeec7415b5a",
       "version_major": 2,
       "version_minor": 0
      },
      "text/plain": [
       "  0%|          | 0/20 [00:00<?, ?it/s]"
      ]
     },
     "metadata": {},
     "output_type": "display_data"
    },
    {
     "data": {
      "application/vnd.jupyter.widget-view+json": {
       "model_id": "662615451fb542b3a3d5223dc8140b88",
       "version_major": 2,
       "version_minor": 0
      },
      "text/plain": [
       "  0%|          | 0/20 [00:00<?, ?it/s]"
      ]
     },
     "metadata": {},
     "output_type": "display_data"
    },
    {
     "data": {
      "application/vnd.jupyter.widget-view+json": {
       "model_id": "3158e54fe85148c198e171091fafa46d",
       "version_major": 2,
       "version_minor": 0
      },
      "text/plain": [
       "  0%|          | 0/20 [00:00<?, ?it/s]"
      ]
     },
     "metadata": {},
     "output_type": "display_data"
    },
    {
     "data": {
      "application/vnd.jupyter.widget-view+json": {
       "model_id": "6bb52273570642aeba47c2950c310d46",
       "version_major": 2,
       "version_minor": 0
      },
      "text/plain": [
       "  0%|          | 0/20 [00:00<?, ?it/s]"
      ]
     },
     "metadata": {},
     "output_type": "display_data"
    },
    {
     "data": {
      "application/vnd.jupyter.widget-view+json": {
       "model_id": "ec05866bc16043b1955380e5166ba44e",
       "version_major": 2,
       "version_minor": 0
      },
      "text/plain": [
       "  0%|          | 0/20 [00:00<?, ?it/s]"
      ]
     },
     "metadata": {},
     "output_type": "display_data"
    },
    {
     "data": {
      "application/vnd.jupyter.widget-view+json": {
       "model_id": "220da82222054fb1bf80b841fe0c4618",
       "version_major": 2,
       "version_minor": 0
      },
      "text/plain": [
       "  0%|          | 0/20 [00:00<?, ?it/s]"
      ]
     },
     "metadata": {},
     "output_type": "display_data"
    },
    {
     "data": {
      "application/vnd.jupyter.widget-view+json": {
       "model_id": "75f6ba0a6e8b4bc996f397384ebb9eb2",
       "version_major": 2,
       "version_minor": 0
      },
      "text/plain": [
       "  0%|          | 0/20 [00:00<?, ?it/s]"
      ]
     },
     "metadata": {},
     "output_type": "display_data"
    },
    {
     "data": {
      "application/vnd.jupyter.widget-view+json": {
       "model_id": "c0fc74a346a348dc8954612343545de2",
       "version_major": 2,
       "version_minor": 0
      },
      "text/plain": [
       "  0%|          | 0/20 [00:00<?, ?it/s]"
      ]
     },
     "metadata": {},
     "output_type": "display_data"
    },
    {
     "data": {
      "application/vnd.jupyter.widget-view+json": {
       "model_id": "154c995d43fd4aabb594890c7e6fed0c",
       "version_major": 2,
       "version_minor": 0
      },
      "text/plain": [
       "  0%|          | 0/20 [00:00<?, ?it/s]"
      ]
     },
     "metadata": {},
     "output_type": "display_data"
    },
    {
     "data": {
      "application/vnd.jupyter.widget-view+json": {
       "model_id": "576bf8b9aece446a85608ae2352b7492",
       "version_major": 2,
       "version_minor": 0
      },
      "text/plain": [
       "  0%|          | 0/20 [00:00<?, ?it/s]"
      ]
     },
     "metadata": {},
     "output_type": "display_data"
    },
    {
     "data": {
      "application/vnd.jupyter.widget-view+json": {
       "model_id": "9adc04cae1dc4ec38a9adb72531c8dea",
       "version_major": 2,
       "version_minor": 0
      },
      "text/plain": [
       "  0%|          | 0/20 [00:00<?, ?it/s]"
      ]
     },
     "metadata": {},
     "output_type": "display_data"
    },
    {
     "data": {
      "application/vnd.jupyter.widget-view+json": {
       "model_id": "2615feb1ce45402396e5412b73ee34c3",
       "version_major": 2,
       "version_minor": 0
      },
      "text/plain": [
       "  0%|          | 0/20 [00:00<?, ?it/s]"
      ]
     },
     "metadata": {},
     "output_type": "display_data"
    },
    {
     "data": {
      "application/vnd.jupyter.widget-view+json": {
       "model_id": "e75cf75d6eda4cdb876aace42fbdde85",
       "version_major": 2,
       "version_minor": 0
      },
      "text/plain": [
       "  0%|          | 0/20 [00:00<?, ?it/s]"
      ]
     },
     "metadata": {},
     "output_type": "display_data"
    },
    {
     "data": {
      "application/vnd.jupyter.widget-view+json": {
       "model_id": "bac2386fccba4d59ac85ac3381ce2582",
       "version_major": 2,
       "version_minor": 0
      },
      "text/plain": [
       "  0%|          | 0/20 [00:00<?, ?it/s]"
      ]
     },
     "metadata": {},
     "output_type": "display_data"
    },
    {
     "data": {
      "application/vnd.jupyter.widget-view+json": {
       "model_id": "564ef38e13cf41b4982fe66484800097",
       "version_major": 2,
       "version_minor": 0
      },
      "text/plain": [
       "  0%|          | 0/20 [00:00<?, ?it/s]"
      ]
     },
     "metadata": {},
     "output_type": "display_data"
    },
    {
     "data": {
      "application/vnd.jupyter.widget-view+json": {
       "model_id": "931a53cb3a024ddfbc713a8b7734275d",
       "version_major": 2,
       "version_minor": 0
      },
      "text/plain": [
       "  0%|          | 0/20 [00:00<?, ?it/s]"
      ]
     },
     "metadata": {},
     "output_type": "display_data"
    },
    {
     "data": {
      "application/vnd.jupyter.widget-view+json": {
       "model_id": "44ab74bab6914aaaaf19ceeacbe545fe",
       "version_major": 2,
       "version_minor": 0
      },
      "text/plain": [
       "  0%|          | 0/20 [00:00<?, ?it/s]"
      ]
     },
     "metadata": {},
     "output_type": "display_data"
    },
    {
     "data": {
      "application/vnd.jupyter.widget-view+json": {
       "model_id": "d557944b39164720bd3905868e689154",
       "version_major": 2,
       "version_minor": 0
      },
      "text/plain": [
       "  0%|          | 0/20 [00:00<?, ?it/s]"
      ]
     },
     "metadata": {},
     "output_type": "display_data"
    },
    {
     "data": {
      "application/vnd.jupyter.widget-view+json": {
       "model_id": "0a5ae96b1cd64119a670ff5249e9618d",
       "version_major": 2,
       "version_minor": 0
      },
      "text/plain": [
       "  0%|          | 0/20 [00:00<?, ?it/s]"
      ]
     },
     "metadata": {},
     "output_type": "display_data"
    },
    {
     "data": {
      "application/vnd.jupyter.widget-view+json": {
       "model_id": "65ae2ed7cb2542039b9e480806c26ac0",
       "version_major": 2,
       "version_minor": 0
      },
      "text/plain": [
       "  0%|          | 0/20 [00:00<?, ?it/s]"
      ]
     },
     "metadata": {},
     "output_type": "display_data"
    },
    {
     "data": {
      "application/vnd.jupyter.widget-view+json": {
       "model_id": "afbece7b42314ac5a54377264bfcf5d1",
       "version_major": 2,
       "version_minor": 0
      },
      "text/plain": [
       "  0%|          | 0/20 [00:00<?, ?it/s]"
      ]
     },
     "metadata": {},
     "output_type": "display_data"
    },
    {
     "data": {
      "application/vnd.jupyter.widget-view+json": {
       "model_id": "e496c575d3454ddcb4fa546cfb9af439",
       "version_major": 2,
       "version_minor": 0
      },
      "text/plain": [
       "  0%|          | 0/20 [00:00<?, ?it/s]"
      ]
     },
     "metadata": {},
     "output_type": "display_data"
    },
    {
     "data": {
      "application/vnd.jupyter.widget-view+json": {
       "model_id": "c1825c5af93e426b9ca518ff322d9296",
       "version_major": 2,
       "version_minor": 0
      },
      "text/plain": [
       "  0%|          | 0/20 [00:00<?, ?it/s]"
      ]
     },
     "metadata": {},
     "output_type": "display_data"
    },
    {
     "data": {
      "application/vnd.jupyter.widget-view+json": {
       "model_id": "39788b5230d74196a1997a1044eea1f0",
       "version_major": 2,
       "version_minor": 0
      },
      "text/plain": [
       "  0%|          | 0/20 [00:00<?, ?it/s]"
      ]
     },
     "metadata": {},
     "output_type": "display_data"
    },
    {
     "data": {
      "application/vnd.jupyter.widget-view+json": {
       "model_id": "323b1ea31ca84323aaa6ee8faf8a2dfc",
       "version_major": 2,
       "version_minor": 0
      },
      "text/plain": [
       "  0%|          | 0/20 [00:00<?, ?it/s]"
      ]
     },
     "metadata": {},
     "output_type": "display_data"
    },
    {
     "data": {
      "application/vnd.jupyter.widget-view+json": {
       "model_id": "9e81c712d2374f87b58aeabc9be8d5b2",
       "version_major": 2,
       "version_minor": 0
      },
      "text/plain": [
       "  0%|          | 0/20 [00:00<?, ?it/s]"
      ]
     },
     "metadata": {},
     "output_type": "display_data"
    },
    {
     "data": {
      "application/vnd.jupyter.widget-view+json": {
       "model_id": "1bde4a8632854668884d62d21a76d0a2",
       "version_major": 2,
       "version_minor": 0
      },
      "text/plain": [
       "  0%|          | 0/20 [00:00<?, ?it/s]"
      ]
     },
     "metadata": {},
     "output_type": "display_data"
    },
    {
     "data": {
      "application/vnd.jupyter.widget-view+json": {
       "model_id": "9f4bfacba0f646c0bbfa8206806e7ba5",
       "version_major": 2,
       "version_minor": 0
      },
      "text/plain": [
       "  0%|          | 0/20 [00:00<?, ?it/s]"
      ]
     },
     "metadata": {},
     "output_type": "display_data"
    },
    {
     "data": {
      "application/vnd.jupyter.widget-view+json": {
       "model_id": "5c366c2b1ced4422ae044e54c26c2d38",
       "version_major": 2,
       "version_minor": 0
      },
      "text/plain": [
       "  0%|          | 0/20 [00:00<?, ?it/s]"
      ]
     },
     "metadata": {},
     "output_type": "display_data"
    },
    {
     "data": {
      "application/vnd.jupyter.widget-view+json": {
       "model_id": "6282478427d64f22b05803ea3af799ff",
       "version_major": 2,
       "version_minor": 0
      },
      "text/plain": [
       "  0%|          | 0/20 [00:00<?, ?it/s]"
      ]
     },
     "metadata": {},
     "output_type": "display_data"
    },
    {
     "data": {
      "application/vnd.jupyter.widget-view+json": {
       "model_id": "9b7bd0ba00f04490ae32642d4d93ba06",
       "version_major": 2,
       "version_minor": 0
      },
      "text/plain": [
       "  0%|          | 0/20 [00:00<?, ?it/s]"
      ]
     },
     "metadata": {},
     "output_type": "display_data"
    },
    {
     "data": {
      "application/vnd.jupyter.widget-view+json": {
       "model_id": "736863861eac4768a48bbe04dea4a660",
       "version_major": 2,
       "version_minor": 0
      },
      "text/plain": [
       "  0%|          | 0/20 [00:00<?, ?it/s]"
      ]
     },
     "metadata": {},
     "output_type": "display_data"
    },
    {
     "data": {
      "application/vnd.jupyter.widget-view+json": {
       "model_id": "d89d02a40a21474b85362b67f5e9a0ef",
       "version_major": 2,
       "version_minor": 0
      },
      "text/plain": [
       "  0%|          | 0/20 [00:00<?, ?it/s]"
      ]
     },
     "metadata": {},
     "output_type": "display_data"
    },
    {
     "data": {
      "application/vnd.jupyter.widget-view+json": {
       "model_id": "07e6184dccf1455e9da96e840802d7e6",
       "version_major": 2,
       "version_minor": 0
      },
      "text/plain": [
       "  0%|          | 0/20 [00:00<?, ?it/s]"
      ]
     },
     "metadata": {},
     "output_type": "display_data"
    },
    {
     "data": {
      "application/vnd.jupyter.widget-view+json": {
       "model_id": "de0b822f99a24d5d810c05d1826881fd",
       "version_major": 2,
       "version_minor": 0
      },
      "text/plain": [
       "  0%|          | 0/20 [00:00<?, ?it/s]"
      ]
     },
     "metadata": {},
     "output_type": "display_data"
    },
    {
     "data": {
      "application/vnd.jupyter.widget-view+json": {
       "model_id": "fc1b1e22122d4a2d8df08304b91eea84",
       "version_major": 2,
       "version_minor": 0
      },
      "text/plain": [
       "  0%|          | 0/20 [00:00<?, ?it/s]"
      ]
     },
     "metadata": {},
     "output_type": "display_data"
    },
    {
     "data": {
      "application/vnd.jupyter.widget-view+json": {
       "model_id": "74ce1893df394496ad900ee79b7b89f4",
       "version_major": 2,
       "version_minor": 0
      },
      "text/plain": [
       "  0%|          | 0/20 [00:00<?, ?it/s]"
      ]
     },
     "metadata": {},
     "output_type": "display_data"
    },
    {
     "data": {
      "application/vnd.jupyter.widget-view+json": {
       "model_id": "b5c8c767224b429a80f2040aecdeb859",
       "version_major": 2,
       "version_minor": 0
      },
      "text/plain": [
       "  0%|          | 0/20 [00:00<?, ?it/s]"
      ]
     },
     "metadata": {},
     "output_type": "display_data"
    },
    {
     "data": {
      "application/vnd.jupyter.widget-view+json": {
       "model_id": "248c1f74874a41f49a439ed8741ef71c",
       "version_major": 2,
       "version_minor": 0
      },
      "text/plain": [
       "  0%|          | 0/20 [00:00<?, ?it/s]"
      ]
     },
     "metadata": {},
     "output_type": "display_data"
    },
    {
     "data": {
      "application/vnd.jupyter.widget-view+json": {
       "model_id": "6614ad092c10472ab2522afbc684158d",
       "version_major": 2,
       "version_minor": 0
      },
      "text/plain": [
       "  0%|          | 0/20 [00:00<?, ?it/s]"
      ]
     },
     "metadata": {},
     "output_type": "display_data"
    },
    {
     "data": {
      "application/vnd.jupyter.widget-view+json": {
       "model_id": "a215733d676a45c6b8c36a6adb8288a9",
       "version_major": 2,
       "version_minor": 0
      },
      "text/plain": [
       "  0%|          | 0/20 [00:00<?, ?it/s]"
      ]
     },
     "metadata": {},
     "output_type": "display_data"
    },
    {
     "data": {
      "application/vnd.jupyter.widget-view+json": {
       "model_id": "df11f9839a8e4af48dfc3546b01d7223",
       "version_major": 2,
       "version_minor": 0
      },
      "text/plain": [
       "  0%|          | 0/20 [00:00<?, ?it/s]"
      ]
     },
     "metadata": {},
     "output_type": "display_data"
    },
    {
     "data": {
      "application/vnd.jupyter.widget-view+json": {
       "model_id": "05830c64d8894dc7b3e67254eec619f7",
       "version_major": 2,
       "version_minor": 0
      },
      "text/plain": [
       "  0%|          | 0/20 [00:00<?, ?it/s]"
      ]
     },
     "metadata": {},
     "output_type": "display_data"
    },
    {
     "data": {
      "application/vnd.jupyter.widget-view+json": {
       "model_id": "ce6c99fb3a824ace878fd7318e266cee",
       "version_major": 2,
       "version_minor": 0
      },
      "text/plain": [
       "  0%|          | 0/20 [00:00<?, ?it/s]"
      ]
     },
     "metadata": {},
     "output_type": "display_data"
    },
    {
     "data": {
      "application/vnd.jupyter.widget-view+json": {
       "model_id": "2acc4152ba934f0eaa3679642f93a637",
       "version_major": 2,
       "version_minor": 0
      },
      "text/plain": [
       "  0%|          | 0/20 [00:00<?, ?it/s]"
      ]
     },
     "metadata": {},
     "output_type": "display_data"
    },
    {
     "data": {
      "application/vnd.jupyter.widget-view+json": {
       "model_id": "a1db9eb1de414c8798d653a3af769732",
       "version_major": 2,
       "version_minor": 0
      },
      "text/plain": [
       "  0%|          | 0/20 [00:00<?, ?it/s]"
      ]
     },
     "metadata": {},
     "output_type": "display_data"
    },
    {
     "data": {
      "application/vnd.jupyter.widget-view+json": {
       "model_id": "20ec55f366ad4366900573917d183565",
       "version_major": 2,
       "version_minor": 0
      },
      "text/plain": [
       "  0%|          | 0/20 [00:00<?, ?it/s]"
      ]
     },
     "metadata": {},
     "output_type": "display_data"
    },
    {
     "data": {
      "application/vnd.jupyter.widget-view+json": {
       "model_id": "edfea2843ba14651b8a79cd78ee62807",
       "version_major": 2,
       "version_minor": 0
      },
      "text/plain": [
       "  0%|          | 0/20 [00:00<?, ?it/s]"
      ]
     },
     "metadata": {},
     "output_type": "display_data"
    },
    {
     "data": {
      "application/vnd.jupyter.widget-view+json": {
       "model_id": "8e336b5b4986445c8acb29ce3a579b8e",
       "version_major": 2,
       "version_minor": 0
      },
      "text/plain": [
       "  0%|          | 0/20 [00:00<?, ?it/s]"
      ]
     },
     "metadata": {},
     "output_type": "display_data"
    },
    {
     "data": {
      "application/vnd.jupyter.widget-view+json": {
       "model_id": "56ba08209b6a4e91afe89601d6cced78",
       "version_major": 2,
       "version_minor": 0
      },
      "text/plain": [
       "  0%|          | 0/20 [00:00<?, ?it/s]"
      ]
     },
     "metadata": {},
     "output_type": "display_data"
    },
    {
     "data": {
      "application/vnd.jupyter.widget-view+json": {
       "model_id": "3935ac97393041f98703957db4ed65d5",
       "version_major": 2,
       "version_minor": 0
      },
      "text/plain": [
       "  0%|          | 0/20 [00:00<?, ?it/s]"
      ]
     },
     "metadata": {},
     "output_type": "display_data"
    },
    {
     "data": {
      "application/vnd.jupyter.widget-view+json": {
       "model_id": "fec1397d6f964faea985a3c78c7358e8",
       "version_major": 2,
       "version_minor": 0
      },
      "text/plain": [
       "  0%|          | 0/20 [00:00<?, ?it/s]"
      ]
     },
     "metadata": {},
     "output_type": "display_data"
    },
    {
     "data": {
      "application/vnd.jupyter.widget-view+json": {
       "model_id": "44b39a399142437ba624129e4267b802",
       "version_major": 2,
       "version_minor": 0
      },
      "text/plain": [
       "  0%|          | 0/20 [00:00<?, ?it/s]"
      ]
     },
     "metadata": {},
     "output_type": "display_data"
    },
    {
     "data": {
      "application/vnd.jupyter.widget-view+json": {
       "model_id": "7429ecb8d72a4dbf8b09ab1f8a817dcf",
       "version_major": 2,
       "version_minor": 0
      },
      "text/plain": [
       "  0%|          | 0/20 [00:00<?, ?it/s]"
      ]
     },
     "metadata": {},
     "output_type": "display_data"
    },
    {
     "data": {
      "application/vnd.jupyter.widget-view+json": {
       "model_id": "74cd78f4378b4fc78e046e29ca313538",
       "version_major": 2,
       "version_minor": 0
      },
      "text/plain": [
       "  0%|          | 0/20 [00:00<?, ?it/s]"
      ]
     },
     "metadata": {},
     "output_type": "display_data"
    },
    {
     "data": {
      "application/vnd.jupyter.widget-view+json": {
       "model_id": "4e81f2ac4cdb42b2afd5d9656da1f2d0",
       "version_major": 2,
       "version_minor": 0
      },
      "text/plain": [
       "  0%|          | 0/20 [00:00<?, ?it/s]"
      ]
     },
     "metadata": {},
     "output_type": "display_data"
    },
    {
     "data": {
      "application/vnd.jupyter.widget-view+json": {
       "model_id": "63ab034b9d194443a26062cefecbdd23",
       "version_major": 2,
       "version_minor": 0
      },
      "text/plain": [
       "  0%|          | 0/20 [00:00<?, ?it/s]"
      ]
     },
     "metadata": {},
     "output_type": "display_data"
    },
    {
     "data": {
      "application/vnd.jupyter.widget-view+json": {
       "model_id": "7115f44ca0c24508a08b0c0d2829ac43",
       "version_major": 2,
       "version_minor": 0
      },
      "text/plain": [
       "  0%|          | 0/20 [00:00<?, ?it/s]"
      ]
     },
     "metadata": {},
     "output_type": "display_data"
    },
    {
     "data": {
      "application/vnd.jupyter.widget-view+json": {
       "model_id": "a126351b537f4098a81aabb96dab855b",
       "version_major": 2,
       "version_minor": 0
      },
      "text/plain": [
       "  0%|          | 0/20 [00:00<?, ?it/s]"
      ]
     },
     "metadata": {},
     "output_type": "display_data"
    },
    {
     "data": {
      "application/vnd.jupyter.widget-view+json": {
       "model_id": "5af74d504bff4e44bd0e4edc36f52ddd",
       "version_major": 2,
       "version_minor": 0
      },
      "text/plain": [
       "  0%|          | 0/20 [00:00<?, ?it/s]"
      ]
     },
     "metadata": {},
     "output_type": "display_data"
    },
    {
     "data": {
      "application/vnd.jupyter.widget-view+json": {
       "model_id": "16dfcaae3d8542868c5f6e3bd92b09da",
       "version_major": 2,
       "version_minor": 0
      },
      "text/plain": [
       "  0%|          | 0/20 [00:00<?, ?it/s]"
      ]
     },
     "metadata": {},
     "output_type": "display_data"
    },
    {
     "data": {
      "application/vnd.jupyter.widget-view+json": {
       "model_id": "284b5660441b44d28ec4bb664f3c3332",
       "version_major": 2,
       "version_minor": 0
      },
      "text/plain": [
       "  0%|          | 0/20 [00:00<?, ?it/s]"
      ]
     },
     "metadata": {},
     "output_type": "display_data"
    },
    {
     "data": {
      "application/vnd.jupyter.widget-view+json": {
       "model_id": "db24dbbc32434e1591c24895eb0b553b",
       "version_major": 2,
       "version_minor": 0
      },
      "text/plain": [
       "  0%|          | 0/13 [00:00<?, ?it/s]"
      ]
     },
     "metadata": {},
     "output_type": "display_data"
    }
   ],
   "source": [
    "proj_data = []\n",
    "final_df = None\n",
    "\n",
    "for page in tqdm(range(99, 191)): # 89 -> 191\n",
    "    start_url = f'https://президентскиегранты.рф/public/application/cards?SearchString=&Statuses%5B0%5D.Name=%D0%BF%D0%BE%D0%B1%D0%B5%D0%B4%D0%B8%D1%82%D0%B5%D0%BB%D1%8C+%D0%BA%D0%BE%D0%BD%D0%BA%D1%83%D1%80%D1%81%D0%B0&Statuses%5B1%5D.Name=%D0%BD%D0%B0+%D0%BD%D0%B5%D0%B7%D0%B0%D0%B2%D0%B8%D1%81%D0%B8%D0%BC%D0%BE%D0%B9+%D1%8D%D0%BA%D1%81%D0%BF%D0%B5%D1%80%D1%82%D0%B8%D0%B7%D0%B5&Statuses%5B2%5D.Name=%D0%BF%D1%80%D0%BE%D0%B5%D0%BA%D1%82+%D0%BD%D0%B5+%D0%BF%D0%BE%D0%BB%D1%83%D1%87%D0%B8%D0%BB+%D0%BF%D0%BE%D0%B4%D0%B4%D0%B5%D1%80%D0%B6%D0%BA%D1%83&RegionId=&AreaCityId=&ContestDirectionTenantId=36568399-3aff-45f4-b418-d5362caf4595&IsNormalTermProjects=true&IsLongTermProjects=true&CompetitionId=&DateFrom=&DateTo=&Statuses%5B0%5D.Selected=false&Statuses%5B1%5D.Selected=false&Statuses%5B2%5D.Selected=false&IsNormalTermProjects=false&IsLongTermProjects=false&page={page}'\n",
    "    \n",
    "    browser.get(start_url)\n",
    "    WebDriverWait(browser, timeout).until(\n",
    "                        lambda browser: browser.find_element(By.XPATH, \"//div[@class='table table--p-present table--projects']\"))\n",
    "\n",
    "    time.sleep(5)\n",
    "    links = scrape_links()\n",
    "\n",
    "    for link in tqdm(links):\n",
    "        data = scrape_elems(link)\n",
    "        proj_data.append(data)\n",
    "    \n",
    "    final_df = project_data_to_df(proj_data, final_df)\n",
    "    final_df.to_csv('data/scrape-09-09.csv')\n",
    "    proj_data.clear()"
   ]
  },
  {
   "cell_type": "code",
   "execution_count": 59,
   "id": "0b18cd23",
   "metadata": {},
   "outputs": [
    {
     "data": {
      "text/plain": [
       "3793"
      ]
     },
     "execution_count": 59,
     "metadata": {},
     "output_type": "execute_result"
    }
   ],
   "source": [
    "189 * 20 + len(links)"
   ]
  },
  {
   "cell_type": "code",
   "execution_count": 60,
   "id": "5030c8d8",
   "metadata": {},
   "outputs": [
    {
     "data": {
      "text/plain": [
       "(3793, 13)"
      ]
     },
     "execution_count": 60,
     "metadata": {},
     "output_type": "execute_result"
    }
   ],
   "source": [
    "final_df.shape"
   ]
  },
  {
   "cell_type": "code",
   "execution_count": 64,
   "id": "2a2da50a",
   "metadata": {},
   "outputs": [
    {
     "data": {
      "text/html": [
       "<div>\n",
       "<style scoped>\n",
       "    .dataframe tbody tr th:only-of-type {\n",
       "        vertical-align: middle;\n",
       "    }\n",
       "\n",
       "    .dataframe tbody tr th {\n",
       "        vertical-align: top;\n",
       "    }\n",
       "\n",
       "    .dataframe thead th {\n",
       "        text-align: right;\n",
       "    }\n",
       "</style>\n",
       "<table border=\"1\" class=\"dataframe\">\n",
       "  <thead>\n",
       "    <tr style=\"text-align: right;\">\n",
       "      <th></th>\n",
       "      <th>status</th>\n",
       "      <th>title</th>\n",
       "      <th>links</th>\n",
       "      <th>competition_year</th>\n",
       "      <th>grant_direction</th>\n",
       "      <th>app_number</th>\n",
       "      <th>app_date</th>\n",
       "      <th>implementation_terms</th>\n",
       "      <th>organization</th>\n",
       "      <th>inn</th>\n",
       "      <th>ogrn</th>\n",
       "      <th>summary</th>\n",
       "      <th>target</th>\n",
       "    </tr>\n",
       "  </thead>\n",
       "  <tbody>\n",
       "    <tr>\n",
       "      <th>0</th>\n",
       "      <td>проект не получил поддержку</td>\n",
       "      <td>Проект по Социо-культурная адаптация детей миг...</td>\n",
       "      <td>https://xn--80afcdbalict6afooklqi5o.xn--p1ai/p...</td>\n",
       "      <td>Второй конкурс 2022</td>\n",
       "      <td>Укрепление межнационального и межрелигиозного ...</td>\n",
       "      <td>22-2-012794</td>\n",
       "      <td>14.03.2022</td>\n",
       "      <td>01.08.2022 - 01.12.2022</td>\n",
       "      <td>ЗАБАЙКАЛЬСКОЕ РЕГИОНАЛЬНОЕ ОТДЕЛЕНИЕ ОБЩЕРОССИ...</td>\n",
       "      <td>7536114997</td>\n",
       "      <td>1107500000772</td>\n",
       "      <td>Социо-культурная адаптация детей мигрантов, пр...</td>\n",
       "      <td>Создание, внедрение и отработка регламента, пр...</td>\n",
       "    </tr>\n",
       "    <tr>\n",
       "      <th>1</th>\n",
       "      <td>проект не получил поддержку</td>\n",
       "      <td>Адаптация студентов, прибывающих в Россию из т...</td>\n",
       "      <td>https://xn--80afcdbalict6afooklqi5o.xn--p1ai/p...</td>\n",
       "      <td>Второй конкурс 2022</td>\n",
       "      <td>Укрепление межнационального и межрелигиозного ...</td>\n",
       "      <td>22-2-017763</td>\n",
       "      <td>15.03.2022</td>\n",
       "      <td>01.07.2022 - 31.01.2023</td>\n",
       "      <td>АВТОНОМНАЯ НЕКОММЕРЧЕСКАЯ ОРГАНИЗАЦИЯ \"ЦЕНТР П...</td>\n",
       "      <td>7321013526</td>\n",
       "      <td>1217300000037</td>\n",
       "      <td>Цель проекта «Адаптация студентов, прибывающих...</td>\n",
       "      <td>Содействовать формированию благоприятной межку...</td>\n",
       "    </tr>\n",
       "    <tr>\n",
       "      <th>2</th>\n",
       "      <td>проект не получил поддержку</td>\n",
       "      <td>По улицам города пройдусь</td>\n",
       "      <td>https://xn--80afcdbalict6afooklqi5o.xn--p1ai/p...</td>\n",
       "      <td>Второй конкурс 2022</td>\n",
       "      <td>Укрепление межнационального и межрелигиозного ...</td>\n",
       "      <td>22-2-007295</td>\n",
       "      <td>15.03.2022</td>\n",
       "      <td>01.07.2022 - 30.11.2022</td>\n",
       "      <td>ОБЩЕСТВЕННАЯ ОРГАНИЗАЦИЯ \"ОРЕНБУРГСКАЯ РЕГИОНА...</td>\n",
       "      <td>5638032323</td>\n",
       "      <td>1085600000640</td>\n",
       "      <td>Проект \"По улицам города пройдусь\" - флагман г...</td>\n",
       "      <td>Повысить уровень гражданско-патриотического во...</td>\n",
       "    </tr>\n",
       "    <tr>\n",
       "      <th>3</th>\n",
       "      <td>победитель конкурса</td>\n",
       "      <td>Культурно-этнографическая киноэкспедиция \"Дети...</td>\n",
       "      <td>https://xn--80afcdbalict6afooklqi5o.xn--p1ai/p...</td>\n",
       "      <td>Второй конкурс 2022</td>\n",
       "      <td>Укрепление межнационального и межрелигиозного ...</td>\n",
       "      <td>22-2-010603</td>\n",
       "      <td>15.03.2022</td>\n",
       "      <td>01.07.2022 - 31.05.2023</td>\n",
       "      <td>АВТОНОМНАЯ НЕКОММЕРЧЕСКАЯ ОРГАНИЗАЦИЯ \"ЦЕНТР С...</td>\n",
       "      <td>9709060278</td>\n",
       "      <td>1207700094964</td>\n",
       "      <td>Актуальная проблема сохранения и развития куль...</td>\n",
       "      <td>Успеть запечатлеть и зафиксировать, а уже отча...</td>\n",
       "    </tr>\n",
       "    <tr>\n",
       "      <th>4</th>\n",
       "      <td>проект не получил поддержку</td>\n",
       "      <td>Дорога домой</td>\n",
       "      <td>https://xn--80afcdbalict6afooklqi5o.xn--p1ai/p...</td>\n",
       "      <td>Второй конкурс 2022</td>\n",
       "      <td>Укрепление межнационального и межрелигиозного ...</td>\n",
       "      <td>22-2-012647</td>\n",
       "      <td>15.03.2022</td>\n",
       "      <td>01.07.2022 - 31.05.2023</td>\n",
       "      <td>ОБЩЕСТВЕННАЯ ОРГАНИЗАЦИЯ БЕЛОРУССКОЙ МЕСТНОЙ Н...</td>\n",
       "      <td>6154142630</td>\n",
       "      <td>1166100050270</td>\n",
       "      <td>На базе центра национальных культур\"Вместе дру...</td>\n",
       "      <td>Повысить интерес к славянской культуре и народ...</td>\n",
       "    </tr>\n",
       "  </tbody>\n",
       "</table>\n",
       "</div>"
      ],
      "text/plain": [
       "                        status  \\\n",
       "0  проект не получил поддержку   \n",
       "1  проект не получил поддержку   \n",
       "2  проект не получил поддержку   \n",
       "3          победитель конкурса   \n",
       "4  проект не получил поддержку   \n",
       "\n",
       "                                               title  \\\n",
       "0  Проект по Социо-культурная адаптация детей миг...   \n",
       "1  Адаптация студентов, прибывающих в Россию из т...   \n",
       "2                          По улицам города пройдусь   \n",
       "3  Культурно-этнографическая киноэкспедиция \"Дети...   \n",
       "4                                       Дорога домой   \n",
       "\n",
       "                                               links     competition_year  \\\n",
       "0  https://xn--80afcdbalict6afooklqi5o.xn--p1ai/p...  Второй конкурс 2022   \n",
       "1  https://xn--80afcdbalict6afooklqi5o.xn--p1ai/p...  Второй конкурс 2022   \n",
       "2  https://xn--80afcdbalict6afooklqi5o.xn--p1ai/p...  Второй конкурс 2022   \n",
       "3  https://xn--80afcdbalict6afooklqi5o.xn--p1ai/p...  Второй конкурс 2022   \n",
       "4  https://xn--80afcdbalict6afooklqi5o.xn--p1ai/p...  Второй конкурс 2022   \n",
       "\n",
       "                                     grant_direction   app_number    app_date  \\\n",
       "0  Укрепление межнационального и межрелигиозного ...  22-2-012794  14.03.2022   \n",
       "1  Укрепление межнационального и межрелигиозного ...  22-2-017763  15.03.2022   \n",
       "2  Укрепление межнационального и межрелигиозного ...  22-2-007295  15.03.2022   \n",
       "3  Укрепление межнационального и межрелигиозного ...  22-2-010603  15.03.2022   \n",
       "4  Укрепление межнационального и межрелигиозного ...  22-2-012647  15.03.2022   \n",
       "\n",
       "      implementation_terms                                       organization  \\\n",
       "0  01.08.2022 - 01.12.2022  ЗАБАЙКАЛЬСКОЕ РЕГИОНАЛЬНОЕ ОТДЕЛЕНИЕ ОБЩЕРОССИ...   \n",
       "1  01.07.2022 - 31.01.2023  АВТОНОМНАЯ НЕКОММЕРЧЕСКАЯ ОРГАНИЗАЦИЯ \"ЦЕНТР П...   \n",
       "2  01.07.2022 - 30.11.2022  ОБЩЕСТВЕННАЯ ОРГАНИЗАЦИЯ \"ОРЕНБУРГСКАЯ РЕГИОНА...   \n",
       "3  01.07.2022 - 31.05.2023  АВТОНОМНАЯ НЕКОММЕРЧЕСКАЯ ОРГАНИЗАЦИЯ \"ЦЕНТР С...   \n",
       "4  01.07.2022 - 31.05.2023  ОБЩЕСТВЕННАЯ ОРГАНИЗАЦИЯ БЕЛОРУССКОЙ МЕСТНОЙ Н...   \n",
       "\n",
       "          inn           ogrn  \\\n",
       "0  7536114997  1107500000772   \n",
       "1  7321013526  1217300000037   \n",
       "2  5638032323  1085600000640   \n",
       "3  9709060278  1207700094964   \n",
       "4  6154142630  1166100050270   \n",
       "\n",
       "                                             summary  \\\n",
       "0  Социо-культурная адаптация детей мигрантов, пр...   \n",
       "1  Цель проекта «Адаптация студентов, прибывающих...   \n",
       "2  Проект \"По улицам города пройдусь\" - флагман г...   \n",
       "3  Актуальная проблема сохранения и развития куль...   \n",
       "4  На базе центра национальных культур\"Вместе дру...   \n",
       "\n",
       "                                              target  \n",
       "0  Создание, внедрение и отработка регламента, пр...  \n",
       "1  Содействовать формированию благоприятной межку...  \n",
       "2  Повысить уровень гражданско-патриотического во...  \n",
       "3  Успеть запечатлеть и зафиксировать, а уже отча...  \n",
       "4  Повысить интерес к славянской культуре и народ...  "
      ]
     },
     "execution_count": 64,
     "metadata": {},
     "output_type": "execute_result"
    }
   ],
   "source": [
    "final_df.head()"
   ]
  },
  {
   "cell_type": "code",
   "execution_count": 87,
   "id": "3b2586b9",
   "metadata": {},
   "outputs": [
    {
     "data": {
      "text/plain": [
       "0"
      ]
     },
     "execution_count": 87,
     "metadata": {},
     "output_type": "execute_result"
    }
   ],
   "source": [
    "final_df.duplicated().sum()"
   ]
  },
  {
   "cell_type": "code",
   "execution_count": 67,
   "id": "2c8fdb72",
   "metadata": {},
   "outputs": [],
   "source": [
    "final_df.reset_index(drop=True, inplace=True)"
   ]
  },
  {
   "cell_type": "code",
   "execution_count": 70,
   "id": "66afe73a",
   "metadata": {},
   "outputs": [],
   "source": [
    "final_df.to_csv('data/scrape-08-09.csv')"
   ]
  },
  {
   "cell_type": "code",
   "execution_count": 72,
   "id": "aeab2ec7",
   "metadata": {},
   "outputs": [
    {
     "data": {
      "text/plain": [
       "(3793, 13)"
      ]
     },
     "execution_count": 72,
     "metadata": {},
     "output_type": "execute_result"
    }
   ],
   "source": [
    "pd.read_csv('data/scrape-08-09.csv', index_col=0).shape"
   ]
  },
  {
   "cell_type": "code",
   "execution_count": null,
   "id": "82989949",
   "metadata": {},
   "outputs": [],
   "source": []
  },
  {
   "cell_type": "code",
   "execution_count": null,
   "id": "fa9f12b0",
   "metadata": {},
   "outputs": [],
   "source": []
  },
  {
   "cell_type": "code",
   "execution_count": null,
   "id": "ebf85bed",
   "metadata": {},
   "outputs": [],
   "source": []
  },
  {
   "cell_type": "code",
   "execution_count": 90,
   "id": "2421839e",
   "metadata": {},
   "outputs": [
    {
     "data": {
      "application/vnd.jupyter.widget-view+json": {
       "model_id": "bb7cfd98febb43d18212c47d6c0734d9",
       "version_major": 2,
       "version_minor": 0
      },
      "text/plain": [
       "  0%|          | 0/190 [00:00<?, ?it/s]"
      ]
     },
     "metadata": {},
     "output_type": "display_data"
    }
   ],
   "source": [
    "all_links = []\n",
    "\n",
    "for page in tqdm(range(1, 191)): # 89 -> 191\n",
    "    start_url = f'https://президентскиегранты.рф/public/application/cards?SearchString=&Statuses%5B0%5D.Name=%D0%BF%D0%BE%D0%B1%D0%B5%D0%B4%D0%B8%D1%82%D0%B5%D0%BB%D1%8C+%D0%BA%D0%BE%D0%BD%D0%BA%D1%83%D1%80%D1%81%D0%B0&Statuses%5B1%5D.Name=%D0%BD%D0%B0+%D0%BD%D0%B5%D0%B7%D0%B0%D0%B2%D0%B8%D1%81%D0%B8%D0%BC%D0%BE%D0%B9+%D1%8D%D0%BA%D1%81%D0%BF%D0%B5%D1%80%D1%82%D0%B8%D0%B7%D0%B5&Statuses%5B2%5D.Name=%D0%BF%D1%80%D0%BE%D0%B5%D0%BA%D1%82+%D0%BD%D0%B5+%D0%BF%D0%BE%D0%BB%D1%83%D1%87%D0%B8%D0%BB+%D0%BF%D0%BE%D0%B4%D0%B4%D0%B5%D1%80%D0%B6%D0%BA%D1%83&RegionId=&AreaCityId=&ContestDirectionTenantId=36568399-3aff-45f4-b418-d5362caf4595&IsNormalTermProjects=true&IsLongTermProjects=true&CompetitionId=&DateFrom=&DateTo=&Statuses%5B0%5D.Selected=false&Statuses%5B1%5D.Selected=false&Statuses%5B2%5D.Selected=false&IsNormalTermProjects=false&IsLongTermProjects=false&page={page}'\n",
    "    \n",
    "    browser.get(start_url)\n",
    "    WebDriverWait(browser, timeout).until(\n",
    "                        lambda browser: browser.find_element(By.XPATH, \"//div[@class='table table--p-present table--projects']\"))\n",
    "\n",
    "    time.sleep(7)\n",
    "    links = scrape_links()\n",
    "    all_links.append(links)"
   ]
  },
  {
   "cell_type": "code",
   "execution_count": 91,
   "id": "0a954c0a",
   "metadata": {},
   "outputs": [],
   "source": [
    "all_links = [c for i in all_links for c in i]"
   ]
  },
  {
   "cell_type": "code",
   "execution_count": 95,
   "id": "4927d006",
   "metadata": {},
   "outputs": [
    {
     "data": {
      "application/vnd.jupyter.widget-view+json": {
       "model_id": "6987ead6c5da4ddca5961172a260a53e",
       "version_major": 2,
       "version_minor": 0
      },
      "text/plain": [
       "  0%|          | 0/3793 [00:00<?, ?it/s]"
      ]
     },
     "metadata": {},
     "output_type": "display_data"
    }
   ],
   "source": [
    "proj_data = []\n",
    "final_df = None\n",
    "\n",
    "save_steps = 0\n",
    "for link in tqdm(all_links):\n",
    "    data = scrape_elems(link)\n",
    "    proj_data.append(data)\n",
    "    \n",
    "    save_steps += 1\n",
    "    if save_steps == 20:\n",
    "        final_df = project_data_to_df(proj_data, final_df)\n",
    "        final_df.to_csv('data/scrape-09-09.csv')\n",
    "        proj_data.clear()\n",
    "        save_steps = 0\n",
    "        \n",
    "final_df = project_data_to_df(proj_data, final_df)\n",
    "final_df.to_csv('data/scrape-09-09.csv')"
   ]
  },
  {
   "cell_type": "code",
   "execution_count": 103,
   "id": "414738ec",
   "metadata": {
    "scrolled": false
   },
   "outputs": [
    {
     "data": {
      "text/plain": [
       "0"
      ]
     },
     "execution_count": 103,
     "metadata": {},
     "output_type": "execute_result"
    }
   ],
   "source": [
    "final_df.duplicated().sum()"
   ]
  },
  {
   "cell_type": "code",
   "execution_count": 97,
   "id": "177aa3eb",
   "metadata": {},
   "outputs": [],
   "source": [
    "final_df.reset_index(drop=True, inplace=True)"
   ]
  },
  {
   "cell_type": "code",
   "execution_count": 104,
   "id": "f4b348c3",
   "metadata": {},
   "outputs": [],
   "source": [
    "final_df.to_csv('data/scrape-09-09.csv')"
   ]
  },
  {
   "cell_type": "code",
   "execution_count": 102,
   "id": "e0b9791d",
   "metadata": {},
   "outputs": [
    {
     "data": {
      "text/html": [
       "<div>\n",
       "<style scoped>\n",
       "    .dataframe tbody tr th:only-of-type {\n",
       "        vertical-align: middle;\n",
       "    }\n",
       "\n",
       "    .dataframe tbody tr th {\n",
       "        vertical-align: top;\n",
       "    }\n",
       "\n",
       "    .dataframe thead th {\n",
       "        text-align: right;\n",
       "    }\n",
       "</style>\n",
       "<table border=\"1\" class=\"dataframe\">\n",
       "  <thead>\n",
       "    <tr style=\"text-align: right;\">\n",
       "      <th></th>\n",
       "      <th>status</th>\n",
       "      <th>title</th>\n",
       "      <th>links</th>\n",
       "      <th>competition_year</th>\n",
       "      <th>grant_direction</th>\n",
       "      <th>app_number</th>\n",
       "      <th>app_date</th>\n",
       "      <th>implementation_terms</th>\n",
       "      <th>organization</th>\n",
       "      <th>inn</th>\n",
       "      <th>ogrn</th>\n",
       "      <th>summary</th>\n",
       "      <th>target</th>\n",
       "    </tr>\n",
       "  </thead>\n",
       "  <tbody>\n",
       "    <tr>\n",
       "      <th>2790</th>\n",
       "      <td>проект не получил поддержку</td>\n",
       "      <td>Краски Навруза</td>\n",
       "      <td>https://xn--80afcdbalict6afooklqi5o.xn--p1ai/p...</td>\n",
       "      <td>Второй конкурс 2018</td>\n",
       "      <td>Укрепление межнационального и межрелигиозного ...</td>\n",
       "      <td>18-2-003132</td>\n",
       "      <td>16.08.2018</td>\n",
       "      <td>01.11.2018 - 22.04.2019</td>\n",
       "      <td>МЕСТНАЯ ОБЩЕСТВЕННАЯ ОРГАНИЗАЦИЯ УЗБЕКСКАЯ НАЦ...</td>\n",
       "      <td>1651076499</td>\n",
       "      <td>1151690103157</td>\n",
       "      <td>В процессе реализации проекта «Краски Навруза»...</td>\n",
       "      <td>Создание условий для межнационального культурн...</td>\n",
       "    </tr>\n",
       "    <tr>\n",
       "      <th>3773</th>\n",
       "      <td>проект не получил поддержку</td>\n",
       "      <td>Развиваемся вместе</td>\n",
       "      <td>https://xn--80afcdbalict6afooklqi5o.xn--p1ai/p...</td>\n",
       "      <td>Первый конкурс 2017</td>\n",
       "      <td>Укрепление межнационального и межрелигиозного ...</td>\n",
       "      <td>17-1-001579</td>\n",
       "      <td>31.05.2017</td>\n",
       "      <td>01.09.2017 - 01.10.2018</td>\n",
       "      <td>ЯКУТСКАЯ РЕСПУБЛИКАНСКАЯ ОБЩЕСТВЕННАЯ ОРГАНИЗА...</td>\n",
       "      <td>1435216134</td>\n",
       "      <td>1091400000878</td>\n",
       "      <td>Наш Проект направлен на создание такой системы...</td>\n",
       "      <td>Создание условий для успешной факультативной, ...</td>\n",
       "    </tr>\n",
       "    <tr>\n",
       "      <th>1786</th>\n",
       "      <td>проект не получил поддержку</td>\n",
       "      <td>Национальный праздник «Сабантуй»</td>\n",
       "      <td>https://xn--80afcdbalict6afooklqi5o.xn--p1ai/p...</td>\n",
       "      <td>Первый конкурс 2020</td>\n",
       "      <td>Укрепление межнационального и межрелигиозного ...</td>\n",
       "      <td>20-1-034108</td>\n",
       "      <td>22.11.2019</td>\n",
       "      <td>02.03.2020 - 21.06.2020</td>\n",
       "      <td>МЕСТНАЯ НИЖНЕВАРТОВСКАЯ ГОРОДСКАЯ ОБЩЕСТВЕННАЯ...</td>\n",
       "      <td>8603061826</td>\n",
       "      <td>1038605500823</td>\n",
       "      <td>Цели и задачи проведения национального праздни...</td>\n",
       "      <td>Основной целью проведения национального праздн...</td>\n",
       "    </tr>\n",
       "    <tr>\n",
       "      <th>1463</th>\n",
       "      <td>проект не получил поддержку</td>\n",
       "      <td>Социально-культурный марафон \"Пенза - вместе я...</td>\n",
       "      <td>https://xn--80afcdbalict6afooklqi5o.xn--p1ai/p...</td>\n",
       "      <td>Второй конкурс 2020</td>\n",
       "      <td>Укрепление межнационального и межрелигиозного ...</td>\n",
       "      <td>20-2-006831</td>\n",
       "      <td>06.04.2020</td>\n",
       "      <td>01.08.2020 - 31.07.2021</td>\n",
       "      <td>Региональная общественная организация \"Татарск...</td>\n",
       "      <td>5836115645</td>\n",
       "      <td>1045800000487</td>\n",
       "      <td>Социально-культурный марафон «Пенза – вместе я...</td>\n",
       "      <td>Создание региональной площадки для развития и ...</td>\n",
       "    </tr>\n",
       "    <tr>\n",
       "      <th>2461</th>\n",
       "      <td>проект не получил поддержку</td>\n",
       "      <td>Фестиваль национальных языков народов Российск...</td>\n",
       "      <td>https://xn--80afcdbalict6afooklqi5o.xn--p1ai/p...</td>\n",
       "      <td>Второй конкурс 2018</td>\n",
       "      <td>Укрепление межнационального и межрелигиозного ...</td>\n",
       "      <td>18-2-017414</td>\n",
       "      <td>11.09.2018</td>\n",
       "      <td>03.11.2018 - 03.03.2019</td>\n",
       "      <td>Некоммерческое партнерство \"Новые социальные т...</td>\n",
       "      <td>5254027855</td>\n",
       "      <td>1035204777167</td>\n",
       "      <td>Фестивали языков уже более двух десятков лет с...</td>\n",
       "      <td>Развитие межнационального сотрудничества, сохр...</td>\n",
       "    </tr>\n",
       "    <tr>\n",
       "      <th>3140</th>\n",
       "      <td>проект не получил поддержку</td>\n",
       "      <td>Школа мигранта</td>\n",
       "      <td>https://xn--80afcdbalict6afooklqi5o.xn--p1ai/p...</td>\n",
       "      <td>Первый конкурс 2018</td>\n",
       "      <td>Укрепление межнационального и межрелигиозного ...</td>\n",
       "      <td>18-1-009904</td>\n",
       "      <td>18.03.2018</td>\n",
       "      <td>01.06.2018 - 31.12.2018</td>\n",
       "      <td>Благотворительный Фонд помощи и правовой защит...</td>\n",
       "      <td>3811098730</td>\n",
       "      <td>1063811035200</td>\n",
       "      <td>Проект «Школа мигранта» - это помощь в адаптац...</td>\n",
       "      <td>Развитие межнационального сотрудничества через...</td>\n",
       "    </tr>\n",
       "    <tr>\n",
       "      <th>1100</th>\n",
       "      <td>победитель конкурса</td>\n",
       "      <td>Мы единством и дружбой народов сильны</td>\n",
       "      <td>https://xn--80afcdbalict6afooklqi5o.xn--p1ai/p...</td>\n",
       "      <td>Второй конкурс 2021</td>\n",
       "      <td>Укрепление межнационального и межрелигиозного ...</td>\n",
       "      <td>21-2-000820</td>\n",
       "      <td>10.03.2021</td>\n",
       "      <td>30.06.2021 - 03.11.2021</td>\n",
       "      <td>ОБЩЕСТВЕННАЯ ОРГАНИЗАЦИЯ МЕСТНАЯ ЛАТЫШСКАЯ НАЦ...</td>\n",
       "      <td>5535007438</td>\n",
       "      <td>1055500017770</td>\n",
       "      <td>Должный подход к культурному наследию основа и...</td>\n",
       "      <td>Укрепление межнационального согласия народов Т...</td>\n",
       "    </tr>\n",
       "    <tr>\n",
       "      <th>1355</th>\n",
       "      <td>проект не получил поддержку</td>\n",
       "      <td>Школа удмуртских блогеров</td>\n",
       "      <td>https://xn--80afcdbalict6afooklqi5o.xn--p1ai/p...</td>\n",
       "      <td>Первый конкурс 2021</td>\n",
       "      <td>Укрепление межнационального и межрелигиозного ...</td>\n",
       "      <td>21-1-000884</td>\n",
       "      <td>08.10.2020</td>\n",
       "      <td>01.02.2021 - 31.01.2022</td>\n",
       "      <td>РЕГИОНАЛЬНАЯ УДМУРТСКАЯ МОЛОДЁЖНАЯ ОБЩЕСТВЕННА...</td>\n",
       "      <td>1841085477</td>\n",
       "      <td>1191832008686</td>\n",
       "      <td>Проект «Школа удмуртских блогеров» направлен н...</td>\n",
       "      <td>Формирование активного сообщества школьников, ...</td>\n",
       "    </tr>\n",
       "    <tr>\n",
       "      <th>2003</th>\n",
       "      <td>проект не получил поддержку</td>\n",
       "      <td>Картинный словарь тофоларского языка</td>\n",
       "      <td>https://xn--80afcdbalict6afooklqi5o.xn--p1ai/p...</td>\n",
       "      <td>Второй конкурс 2019</td>\n",
       "      <td>Укрепление межнационального и межрелигиозного ...</td>\n",
       "      <td>19-2-010241</td>\n",
       "      <td>31.07.2019</td>\n",
       "      <td>01.11.2019 - 29.02.2020</td>\n",
       "      <td>ИРКУТСКОЕ РЕГИОНАЛЬНОЕ ОТДЕЛЕНИЕ ОБЩЕРОССИЙСКО...</td>\n",
       "      <td>3811445983</td>\n",
       "      <td>1173850017945</td>\n",
       "      <td>Проект представляет собой издание Картинного с...</td>\n",
       "      <td>Cоздать необходимые условия для сохранения и т...</td>\n",
       "    </tr>\n",
       "    <tr>\n",
       "      <th>3117</th>\n",
       "      <td>проект не получил поддержку</td>\n",
       "      <td>Дружная Сибирь</td>\n",
       "      <td>https://xn--80afcdbalict6afooklqi5o.xn--p1ai/p...</td>\n",
       "      <td>Первый конкурс 2018</td>\n",
       "      <td>Укрепление межнационального и межрелигиозного ...</td>\n",
       "      <td>18-1-011626</td>\n",
       "      <td>22.03.2018</td>\n",
       "      <td>12.06.2018 - 12.12.2018</td>\n",
       "      <td>НЕКОММЕРЧЕСКАЯ ОРГАНИЗАЦИЯ \"ИРКУТСКИЙ ФОНД КУЛ...</td>\n",
       "      <td>3809018430</td>\n",
       "      <td>1033801010649</td>\n",
       "      <td>Проект «Дружная Сибирь» направлен на укреплени...</td>\n",
       "      <td>Укрепление межэтнических отношений в Иркутской...</td>\n",
       "    </tr>\n",
       "    <tr>\n",
       "      <th>1611</th>\n",
       "      <td>проект не получил поддержку</td>\n",
       "      <td>Просветительский этнопортал «Видеоальманах Дру...</td>\n",
       "      <td>https://xn--80afcdbalict6afooklqi5o.xn--p1ai/p...</td>\n",
       "      <td>Второй конкурс 2020</td>\n",
       "      <td>Укрепление межнационального и межрелигиозного ...</td>\n",
       "      <td>20-2-007078</td>\n",
       "      <td>27.03.2020</td>\n",
       "      <td>01.07.2020 - 31.08.2021</td>\n",
       "      <td>ОМСКОЕ РЕГИОНАЛЬНОЕ ОТДЕЛЕНИЕ ОБЩЕРОССИЙСКОЙ О...</td>\n",
       "      <td>5506170729</td>\n",
       "      <td>1185543017110</td>\n",
       "      <td>Ключевая идея проекта «Просветительский этнопо...</td>\n",
       "      <td>Популяризация в детской и молодежной среде цен...</td>\n",
       "    </tr>\n",
       "    <tr>\n",
       "      <th>751</th>\n",
       "      <td>проект не получил поддержку</td>\n",
       "      <td>Кубок Ленинградской области \"Пояс дружбы\"</td>\n",
       "      <td>https://xn--80afcdbalict6afooklqi5o.xn--p1ai/p...</td>\n",
       "      <td>Первый конкурс 2022</td>\n",
       "      <td>Укрепление межнационального и межрелигиозного ...</td>\n",
       "      <td>22-1-005477</td>\n",
       "      <td>12.10.2021</td>\n",
       "      <td>07.03.2022 - 07.06.2022</td>\n",
       "      <td>РЕГИОНАЛЬНАЯ ОБЩЕСТВЕННАЯ ОРГАНИЗАЦИЯ \"ФЕДЕРАЦ...</td>\n",
       "      <td>4704097966</td>\n",
       "      <td>1154700000916</td>\n",
       "      <td>Кубок Ленинградской области «Пояс дружбы» – пр...</td>\n",
       "      <td>Снижение уровня социальной напряженности в рег...</td>\n",
       "    </tr>\n",
       "  </tbody>\n",
       "</table>\n",
       "</div>"
      ],
      "text/plain": [
       "                           status  \\\n",
       "2790  проект не получил поддержку   \n",
       "3773  проект не получил поддержку   \n",
       "1786  проект не получил поддержку   \n",
       "1463  проект не получил поддержку   \n",
       "2461  проект не получил поддержку   \n",
       "3140  проект не получил поддержку   \n",
       "1100          победитель конкурса   \n",
       "1355  проект не получил поддержку   \n",
       "2003  проект не получил поддержку   \n",
       "3117  проект не получил поддержку   \n",
       "1611  проект не получил поддержку   \n",
       "751   проект не получил поддержку   \n",
       "\n",
       "                                                  title  \\\n",
       "2790                                     Краски Навруза   \n",
       "3773                                 Развиваемся вместе   \n",
       "1786                   Национальный праздник «Сабантуй»   \n",
       "1463  Социально-культурный марафон \"Пенза - вместе я...   \n",
       "2461  Фестиваль национальных языков народов Российск...   \n",
       "3140                                     Школа мигранта   \n",
       "1100              Мы единством и дружбой народов сильны   \n",
       "1355                          Школа удмуртских блогеров   \n",
       "2003               Картинный словарь тофоларского языка   \n",
       "3117                                     Дружная Сибирь   \n",
       "1611  Просветительский этнопортал «Видеоальманах Дру...   \n",
       "751           Кубок Ленинградской области \"Пояс дружбы\"   \n",
       "\n",
       "                                                  links     competition_year  \\\n",
       "2790  https://xn--80afcdbalict6afooklqi5o.xn--p1ai/p...  Второй конкурс 2018   \n",
       "3773  https://xn--80afcdbalict6afooklqi5o.xn--p1ai/p...  Первый конкурс 2017   \n",
       "1786  https://xn--80afcdbalict6afooklqi5o.xn--p1ai/p...  Первый конкурс 2020   \n",
       "1463  https://xn--80afcdbalict6afooklqi5o.xn--p1ai/p...  Второй конкурс 2020   \n",
       "2461  https://xn--80afcdbalict6afooklqi5o.xn--p1ai/p...  Второй конкурс 2018   \n",
       "3140  https://xn--80afcdbalict6afooklqi5o.xn--p1ai/p...  Первый конкурс 2018   \n",
       "1100  https://xn--80afcdbalict6afooklqi5o.xn--p1ai/p...  Второй конкурс 2021   \n",
       "1355  https://xn--80afcdbalict6afooklqi5o.xn--p1ai/p...  Первый конкурс 2021   \n",
       "2003  https://xn--80afcdbalict6afooklqi5o.xn--p1ai/p...  Второй конкурс 2019   \n",
       "3117  https://xn--80afcdbalict6afooklqi5o.xn--p1ai/p...  Первый конкурс 2018   \n",
       "1611  https://xn--80afcdbalict6afooklqi5o.xn--p1ai/p...  Второй конкурс 2020   \n",
       "751   https://xn--80afcdbalict6afooklqi5o.xn--p1ai/p...  Первый конкурс 2022   \n",
       "\n",
       "                                        grant_direction   app_number  \\\n",
       "2790  Укрепление межнационального и межрелигиозного ...  18-2-003132   \n",
       "3773  Укрепление межнационального и межрелигиозного ...  17-1-001579   \n",
       "1786  Укрепление межнационального и межрелигиозного ...  20-1-034108   \n",
       "1463  Укрепление межнационального и межрелигиозного ...  20-2-006831   \n",
       "2461  Укрепление межнационального и межрелигиозного ...  18-2-017414   \n",
       "3140  Укрепление межнационального и межрелигиозного ...  18-1-009904   \n",
       "1100  Укрепление межнационального и межрелигиозного ...  21-2-000820   \n",
       "1355  Укрепление межнационального и межрелигиозного ...  21-1-000884   \n",
       "2003  Укрепление межнационального и межрелигиозного ...  19-2-010241   \n",
       "3117  Укрепление межнационального и межрелигиозного ...  18-1-011626   \n",
       "1611  Укрепление межнационального и межрелигиозного ...  20-2-007078   \n",
       "751   Укрепление межнационального и межрелигиозного ...  22-1-005477   \n",
       "\n",
       "        app_date     implementation_terms  \\\n",
       "2790  16.08.2018  01.11.2018 - 22.04.2019   \n",
       "3773  31.05.2017  01.09.2017 - 01.10.2018   \n",
       "1786  22.11.2019  02.03.2020 - 21.06.2020   \n",
       "1463  06.04.2020  01.08.2020 - 31.07.2021   \n",
       "2461  11.09.2018  03.11.2018 - 03.03.2019   \n",
       "3140  18.03.2018  01.06.2018 - 31.12.2018   \n",
       "1100  10.03.2021  30.06.2021 - 03.11.2021   \n",
       "1355  08.10.2020  01.02.2021 - 31.01.2022   \n",
       "2003  31.07.2019  01.11.2019 - 29.02.2020   \n",
       "3117  22.03.2018  12.06.2018 - 12.12.2018   \n",
       "1611  27.03.2020  01.07.2020 - 31.08.2021   \n",
       "751   12.10.2021  07.03.2022 - 07.06.2022   \n",
       "\n",
       "                                           organization         inn  \\\n",
       "2790  МЕСТНАЯ ОБЩЕСТВЕННАЯ ОРГАНИЗАЦИЯ УЗБЕКСКАЯ НАЦ...  1651076499   \n",
       "3773  ЯКУТСКАЯ РЕСПУБЛИКАНСКАЯ ОБЩЕСТВЕННАЯ ОРГАНИЗА...  1435216134   \n",
       "1786  МЕСТНАЯ НИЖНЕВАРТОВСКАЯ ГОРОДСКАЯ ОБЩЕСТВЕННАЯ...  8603061826   \n",
       "1463  Региональная общественная организация \"Татарск...  5836115645   \n",
       "2461  Некоммерческое партнерство \"Новые социальные т...  5254027855   \n",
       "3140  Благотворительный Фонд помощи и правовой защит...  3811098730   \n",
       "1100  ОБЩЕСТВЕННАЯ ОРГАНИЗАЦИЯ МЕСТНАЯ ЛАТЫШСКАЯ НАЦ...  5535007438   \n",
       "1355  РЕГИОНАЛЬНАЯ УДМУРТСКАЯ МОЛОДЁЖНАЯ ОБЩЕСТВЕННА...  1841085477   \n",
       "2003  ИРКУТСКОЕ РЕГИОНАЛЬНОЕ ОТДЕЛЕНИЕ ОБЩЕРОССИЙСКО...  3811445983   \n",
       "3117  НЕКОММЕРЧЕСКАЯ ОРГАНИЗАЦИЯ \"ИРКУТСКИЙ ФОНД КУЛ...  3809018430   \n",
       "1611  ОМСКОЕ РЕГИОНАЛЬНОЕ ОТДЕЛЕНИЕ ОБЩЕРОССИЙСКОЙ О...  5506170729   \n",
       "751   РЕГИОНАЛЬНАЯ ОБЩЕСТВЕННАЯ ОРГАНИЗАЦИЯ \"ФЕДЕРАЦ...  4704097966   \n",
       "\n",
       "               ogrn                                            summary  \\\n",
       "2790  1151690103157  В процессе реализации проекта «Краски Навруза»...   \n",
       "3773  1091400000878  Наш Проект направлен на создание такой системы...   \n",
       "1786  1038605500823  Цели и задачи проведения национального праздни...   \n",
       "1463  1045800000487  Социально-культурный марафон «Пенза – вместе я...   \n",
       "2461  1035204777167  Фестивали языков уже более двух десятков лет с...   \n",
       "3140  1063811035200  Проект «Школа мигранта» - это помощь в адаптац...   \n",
       "1100  1055500017770  Должный подход к культурному наследию основа и...   \n",
       "1355  1191832008686  Проект «Школа удмуртских блогеров» направлен н...   \n",
       "2003  1173850017945  Проект представляет собой издание Картинного с...   \n",
       "3117  1033801010649  Проект «Дружная Сибирь» направлен на укреплени...   \n",
       "1611  1185543017110  Ключевая идея проекта «Просветительский этнопо...   \n",
       "751   1154700000916  Кубок Ленинградской области «Пояс дружбы» – пр...   \n",
       "\n",
       "                                                 target  \n",
       "2790  Создание условий для межнационального культурн...  \n",
       "3773  Создание условий для успешной факультативной, ...  \n",
       "1786  Основной целью проведения национального праздн...  \n",
       "1463  Создание региональной площадки для развития и ...  \n",
       "2461  Развитие межнационального сотрудничества, сохр...  \n",
       "3140  Развитие межнационального сотрудничества через...  \n",
       "1100  Укрепление межнационального согласия народов Т...  \n",
       "1355  Формирование активного сообщества школьников, ...  \n",
       "2003  Cоздать необходимые условия для сохранения и т...  \n",
       "3117  Укрепление межэтнических отношений в Иркутской...  \n",
       "1611  Популяризация в детской и молодежной среде цен...  \n",
       "751   Снижение уровня социальной напряженности в рег...  "
      ]
     },
     "execution_count": 102,
     "metadata": {},
     "output_type": "execute_result"
    }
   ],
   "source": [
    "final_df.sample(12)"
   ]
  },
  {
   "cell_type": "code",
   "execution_count": null,
   "id": "f118994c",
   "metadata": {},
   "outputs": [],
   "source": []
  }
 ],
 "metadata": {
  "kernelspec": {
   "display_name": "Python 3 (ipykernel)",
   "language": "python",
   "name": "python3"
  },
  "language_info": {
   "codemirror_mode": {
    "name": "ipython",
    "version": 3
   },
   "file_extension": ".py",
   "mimetype": "text/x-python",
   "name": "python",
   "nbconvert_exporter": "python",
   "pygments_lexer": "ipython3",
   "version": "3.9.12"
  }
 },
 "nbformat": 4,
 "nbformat_minor": 5
}
