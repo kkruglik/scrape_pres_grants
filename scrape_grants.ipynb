{
 "cells": [
  {
   "cell_type": "code",
   "execution_count": 35,
   "id": "138553da",
   "metadata": {},
   "outputs": [],
   "source": [
    "from selenium import webdriver\n",
    "from selenium.webdriver.chrome.options import Options\n",
    "from selenium.webdriver.support.ui import WebDriverWait\n",
    "from selenium.webdriver.support import expected_conditions as EC\n",
    "from selenium.webdriver.common.by import By\n",
    "from selenium.common.exceptions import NoSuchElementException, ElementNotInteractableException, TimeoutException, StaleElementReferenceException, ElementClickInterceptedException\n",
    "from webdriver_manager.chrome import ChromeDriverManager\n",
    "\n",
    "import time\n",
    "import re\n",
    "import pandas as pd\n",
    "\n",
    "from tqdm.notebook import tqdm\n",
    "from collections import defaultdict\n",
    "\n",
    "from bs4 import BeautifulSoup\n",
    "import requests"
   ]
  },
  {
   "cell_type": "markdown",
   "id": "3c37d83c",
   "metadata": {},
   "source": [
    "## Что нужно собрать:\n",
    "* Гиперссылка на проект\n",
    "* Название проекта\n",
    "* Организация\n",
    "* Конкурс\n",
    "* Запрашиваемая сумма\n",
    "* Cофинансирование\n",
    "* Общая сумма расходов на реализацию проекта\n",
    "* Цель\n",
    "* Краткое описание\n",
    "* Статус проекта\n",
    "* Номер заявки (индекс таблицы)\n",
    "* Дата подачи\n",
    "* Сроки реализации\n",
    "* ИНН\n",
    "* ОГРН"
   ]
  },
  {
   "cell_type": "code",
   "execution_count": 2,
   "id": "b4cb0078",
   "metadata": {},
   "outputs": [],
   "source": [
    "start_url = 'https://президентскиегранты.рф/public/application/cards?SearchString=&Statuses%5B0%5D.Name=%D0%BF%D0%BE%D0%B1%D0%B5%D0%B4%D0%B8%D1%82%D0%B5%D0%BB%D1%8C+%D0%BA%D0%BE%D0%BD%D0%BA%D1%83%D1%80%D1%81%D0%B0&Statuses%5B1%5D.Name=%D0%BD%D0%B0+%D0%BD%D0%B5%D0%B7%D0%B0%D0%B2%D0%B8%D1%81%D0%B8%D0%BC%D0%BE%D0%B9+%D1%8D%D0%BA%D1%81%D0%BF%D0%B5%D1%80%D1%82%D0%B8%D0%B7%D0%B5&Statuses%5B2%5D.Name=%D0%BF%D1%80%D0%BE%D0%B5%D0%BA%D1%82+%D0%BD%D0%B5+%D0%BF%D0%BE%D0%BB%D1%83%D1%87%D0%B8%D0%BB+%D0%BF%D0%BE%D0%B4%D0%B4%D0%B5%D1%80%D0%B6%D0%BA%D1%83&RegionId=&AreaCityId=&ContestDirectionTenantId=36568399-3aff-45f4-b418-d5362caf4595&IsNormalTermProjects=true&IsLongTermProjects=true&CompetitionId=&DateFrom=&DateTo=&Statuses%5B0%5D.Selected=false&Statuses%5B1%5D.Selected=false&Statuses%5B2%5D.Selected=false&IsNormalTermProjects=false&IsLongTermProjects=false'"
   ]
  },
  {
   "cell_type": "code",
   "execution_count": 30,
   "id": "c3b9721f",
   "metadata": {},
   "outputs": [
    {
     "name": "stdout",
     "output_type": "stream",
     "text": [
      "\n"
     ]
    }
   ],
   "source": [
    "browser = webdriver.Chrome(ChromeDriverManager().install(), ) # options=chrome_options\n",
    "timeout = 10"
   ]
  },
  {
   "cell_type": "code",
   "execution_count": 5,
   "id": "8ad6f597",
   "metadata": {},
   "outputs": [],
   "source": [
    "def scrape_links():\n",
    "    table_project = browser.find_element_by_xpath(\"//div[@class='table table--p-present table--projects']\")\n",
    "    project_links = []\n",
    "    for i in table_project.find_elements_by_tag_name('a'):\n",
    "        project_links.append(i.get_attribute('href'))\n",
    "    return project_links"
   ]
  },
  {
   "cell_type": "code",
   "execution_count": 32,
   "id": "d94a1f6a",
   "metadata": {},
   "outputs": [],
   "source": [
    "def scrape_elems(link):\n",
    "    \n",
    "    # load new page\n",
    "    browser.get(link)\n",
    "    WebDriverWait(browser, timeout).until(\n",
    "                    lambda browser: browser.find_element(By.XPATH, \"//div[@id='winner-aims']\"))\n",
    "    time.sleep(2)\n",
    "    \n",
    "    status = browser.find_element_by_xpath(\"//p[@class='winner-info__status']//span\").text\n",
    "    title = browser.find_element_by_tag_name('h2').text\n",
    "    \n",
    "    # сбор информации в content winner\n",
    "    info = browser.find_element_by_xpath(\"//ul[@class='winner-info__list winner-info__item']\")\n",
    "    info_elems = info.find_elements_by_xpath(\"//span[@class='winner-info__list-item-text']\")\n",
    "    \n",
    "    # если проект получил финансирование, то в контенте есть поле рейтинга, которое не нужно\n",
    "    if len(info_elems) == 8:\n",
    "        competition_year = info_elems[0].text\n",
    "        grant_direction = info_elems[1].text\n",
    "        app_number = info_elems[2].text\n",
    "        app_date = info_elems[3].text\n",
    "        implementation_terms = info_elems[4].text\n",
    "        organization = info_elems[5].text\n",
    "        inn = info_elems[6].text\n",
    "        ogrn = info_elems[7].text\n",
    "    \n",
    "    else:\n",
    "        competition_year = info_elems[0].text\n",
    "        grant_direction = info_elems[1].text\n",
    "        app_number = info_elems[3].text\n",
    "        app_date = info_elems[4].text\n",
    "        implementation_terms = info_elems[5].text\n",
    "        organization = info_elems[6].text\n",
    "        inn = info_elems[7].text\n",
    "        ogrn = info_elems[8].text\n",
    "    \n",
    "    # сбор информации с кратким описанием проекта\n",
    "    summary = browser.find_element_by_xpath(\"//div[@id='winner-summary']\").text.split('\\n')[1]\n",
    "    target = browser.find_element_by_xpath(\"//div[@id='winner-aims']\").find_element_by_tag_name('li').text\n",
    "    \n",
    "    return status, title, link, competition_year, grant_direction, app_number, app_date, \\\n",
    "            implementation_terms, organization, inn, ogrn, summary, target"
   ]
  },
  {
   "cell_type": "code",
   "execution_count": 33,
   "id": "436d6dc7",
   "metadata": {},
   "outputs": [],
   "source": [
    "def project_data_to_df(data, out_df):\n",
    "    cols = ['status', 'title', 'links', 'competition_year', 'grant_direction', 'app_number', 'app_date', \\\n",
    "            'implementation_terms', 'organization', 'inn', 'ogrn', 'summary', 'target']\n",
    "    if out_df is None:\n",
    "        out_df = pd.DataFrame(data, columns=cols)\n",
    "    else:\n",
    "        out_df = pd.concat([out_df, pd.DataFrame(data, columns=cols)])\n",
    "    return out_df"
   ]
  },
  {
   "cell_type": "code",
   "execution_count": 41,
   "id": "0b38f462",
   "metadata": {
    "scrolled": false
   },
   "outputs": [
    {
     "data": {
      "application/vnd.jupyter.widget-view+json": {
       "model_id": "fb14c34ef6cb4ff88dab74f9bb727f9e",
       "version_major": 2,
       "version_minor": 0
      },
      "text/plain": [
       "  0%|          | 0/181 [00:00<?, ?it/s]"
      ]
     },
     "metadata": {},
     "output_type": "display_data"
    },
    {
     "data": {
      "application/vnd.jupyter.widget-view+json": {
       "model_id": "11f1d44ee618499d93ae6c31a7104a83",
       "version_major": 2,
       "version_minor": 0
      },
      "text/plain": [
       "  0%|          | 0/20 [00:00<?, ?it/s]"
      ]
     },
     "metadata": {},
     "output_type": "display_data"
    },
    {
     "data": {
      "application/vnd.jupyter.widget-view+json": {
       "model_id": "1d6ac33c1711411686643b23f9f30fd6",
       "version_major": 2,
       "version_minor": 0
      },
      "text/plain": [
       "  0%|          | 0/20 [00:00<?, ?it/s]"
      ]
     },
     "metadata": {},
     "output_type": "display_data"
    },
    {
     "data": {
      "application/vnd.jupyter.widget-view+json": {
       "model_id": "cf19d4f8d6eb497d9737ab1820ff7d93",
       "version_major": 2,
       "version_minor": 0
      },
      "text/plain": [
       "  0%|          | 0/20 [00:00<?, ?it/s]"
      ]
     },
     "metadata": {},
     "output_type": "display_data"
    },
    {
     "data": {
      "application/vnd.jupyter.widget-view+json": {
       "model_id": "2992cb353187424e9589944138b5d03c",
       "version_major": 2,
       "version_minor": 0
      },
      "text/plain": [
       "  0%|          | 0/20 [00:00<?, ?it/s]"
      ]
     },
     "metadata": {},
     "output_type": "display_data"
    },
    {
     "data": {
      "application/vnd.jupyter.widget-view+json": {
       "model_id": "efd7786c833d4849af9c3d04e5cbaad9",
       "version_major": 2,
       "version_minor": 0
      },
      "text/plain": [
       "  0%|          | 0/20 [00:00<?, ?it/s]"
      ]
     },
     "metadata": {},
     "output_type": "display_data"
    },
    {
     "data": {
      "application/vnd.jupyter.widget-view+json": {
       "model_id": "dda438c641dc4512a86b9e50a1a8890f",
       "version_major": 2,
       "version_minor": 0
      },
      "text/plain": [
       "  0%|          | 0/20 [00:00<?, ?it/s]"
      ]
     },
     "metadata": {},
     "output_type": "display_data"
    },
    {
     "data": {
      "application/vnd.jupyter.widget-view+json": {
       "model_id": "93e7dab30eee43df98736baf8e707c49",
       "version_major": 2,
       "version_minor": 0
      },
      "text/plain": [
       "  0%|          | 0/20 [00:00<?, ?it/s]"
      ]
     },
     "metadata": {},
     "output_type": "display_data"
    },
    {
     "data": {
      "application/vnd.jupyter.widget-view+json": {
       "model_id": "532672de6dd4435182dc579a5d25e909",
       "version_major": 2,
       "version_minor": 0
      },
      "text/plain": [
       "  0%|          | 0/20 [00:00<?, ?it/s]"
      ]
     },
     "metadata": {},
     "output_type": "display_data"
    },
    {
     "data": {
      "application/vnd.jupyter.widget-view+json": {
       "model_id": "c9c7f875ee0e4ee9850b5c5daab6e6c3",
       "version_major": 2,
       "version_minor": 0
      },
      "text/plain": [
       "  0%|          | 0/20 [00:00<?, ?it/s]"
      ]
     },
     "metadata": {},
     "output_type": "display_data"
    },
    {
     "data": {
      "application/vnd.jupyter.widget-view+json": {
       "model_id": "2f88ead40a934cf3b61ec0f0f78b752c",
       "version_major": 2,
       "version_minor": 0
      },
      "text/plain": [
       "  0%|          | 0/20 [00:00<?, ?it/s]"
      ]
     },
     "metadata": {},
     "output_type": "display_data"
    },
    {
     "data": {
      "application/vnd.jupyter.widget-view+json": {
       "model_id": "32cdc9999b6548e6b98cf929ee55b8db",
       "version_major": 2,
       "version_minor": 0
      },
      "text/plain": [
       "  0%|          | 0/20 [00:00<?, ?it/s]"
      ]
     },
     "metadata": {},
     "output_type": "display_data"
    },
    {
     "data": {
      "application/vnd.jupyter.widget-view+json": {
       "model_id": "aa92f535a1274c4996baedaa9a0b47f4",
       "version_major": 2,
       "version_minor": 0
      },
      "text/plain": [
       "  0%|          | 0/20 [00:00<?, ?it/s]"
      ]
     },
     "metadata": {},
     "output_type": "display_data"
    },
    {
     "data": {
      "application/vnd.jupyter.widget-view+json": {
       "model_id": "5f49097ef5bc43f38227b4b4431b986e",
       "version_major": 2,
       "version_minor": 0
      },
      "text/plain": [
       "  0%|          | 0/20 [00:00<?, ?it/s]"
      ]
     },
     "metadata": {},
     "output_type": "display_data"
    },
    {
     "data": {
      "application/vnd.jupyter.widget-view+json": {
       "model_id": "b1b35817f8c74c8a901650a15d8e2ca9",
       "version_major": 2,
       "version_minor": 0
      },
      "text/plain": [
       "  0%|          | 0/20 [00:00<?, ?it/s]"
      ]
     },
     "metadata": {},
     "output_type": "display_data"
    },
    {
     "data": {
      "application/vnd.jupyter.widget-view+json": {
       "model_id": "de5387ae438141d1a598bd30828e2567",
       "version_major": 2,
       "version_minor": 0
      },
      "text/plain": [
       "  0%|          | 0/20 [00:00<?, ?it/s]"
      ]
     },
     "metadata": {},
     "output_type": "display_data"
    },
    {
     "data": {
      "application/vnd.jupyter.widget-view+json": {
       "model_id": "a8ff958a1cbe44cca0d1b244c9c00363",
       "version_major": 2,
       "version_minor": 0
      },
      "text/plain": [
       "  0%|          | 0/20 [00:00<?, ?it/s]"
      ]
     },
     "metadata": {},
     "output_type": "display_data"
    },
    {
     "data": {
      "application/vnd.jupyter.widget-view+json": {
       "model_id": "88d8c917b7a04a2f8912cb7f658a51bc",
       "version_major": 2,
       "version_minor": 0
      },
      "text/plain": [
       "  0%|          | 0/20 [00:00<?, ?it/s]"
      ]
     },
     "metadata": {},
     "output_type": "display_data"
    },
    {
     "data": {
      "application/vnd.jupyter.widget-view+json": {
       "model_id": "90734c2df9c7425a8111adf99d87c558",
       "version_major": 2,
       "version_minor": 0
      },
      "text/plain": [
       "  0%|          | 0/20 [00:00<?, ?it/s]"
      ]
     },
     "metadata": {},
     "output_type": "display_data"
    },
    {
     "data": {
      "application/vnd.jupyter.widget-view+json": {
       "model_id": "569db075bc104f4dbf2c21e2d77d544c",
       "version_major": 2,
       "version_minor": 0
      },
      "text/plain": [
       "  0%|          | 0/20 [00:00<?, ?it/s]"
      ]
     },
     "metadata": {},
     "output_type": "display_data"
    },
    {
     "data": {
      "application/vnd.jupyter.widget-view+json": {
       "model_id": "4dc61ade555b4dea8a3b33f1ab26a57b",
       "version_major": 2,
       "version_minor": 0
      },
      "text/plain": [
       "  0%|          | 0/20 [00:00<?, ?it/s]"
      ]
     },
     "metadata": {},
     "output_type": "display_data"
    },
    {
     "data": {
      "application/vnd.jupyter.widget-view+json": {
       "model_id": "640322fbc2334a30b2f83cbddd7654e8",
       "version_major": 2,
       "version_minor": 0
      },
      "text/plain": [
       "  0%|          | 0/20 [00:00<?, ?it/s]"
      ]
     },
     "metadata": {},
     "output_type": "display_data"
    },
    {
     "data": {
      "application/vnd.jupyter.widget-view+json": {
       "model_id": "c7dd448e5cc74553b6d598796bed67eb",
       "version_major": 2,
       "version_minor": 0
      },
      "text/plain": [
       "  0%|          | 0/20 [00:00<?, ?it/s]"
      ]
     },
     "metadata": {},
     "output_type": "display_data"
    },
    {
     "data": {
      "application/vnd.jupyter.widget-view+json": {
       "model_id": "098db41071844e5eb8d765e32762e765",
       "version_major": 2,
       "version_minor": 0
      },
      "text/plain": [
       "  0%|          | 0/20 [00:00<?, ?it/s]"
      ]
     },
     "metadata": {},
     "output_type": "display_data"
    },
    {
     "data": {
      "application/vnd.jupyter.widget-view+json": {
       "model_id": "668850285e7a42afb1c913050bf170ae",
       "version_major": 2,
       "version_minor": 0
      },
      "text/plain": [
       "  0%|          | 0/20 [00:00<?, ?it/s]"
      ]
     },
     "metadata": {},
     "output_type": "display_data"
    },
    {
     "data": {
      "application/vnd.jupyter.widget-view+json": {
       "model_id": "ea9d703f1fe94f0b87a795e73c7edee2",
       "version_major": 2,
       "version_minor": 0
      },
      "text/plain": [
       "  0%|          | 0/20 [00:00<?, ?it/s]"
      ]
     },
     "metadata": {},
     "output_type": "display_data"
    },
    {
     "data": {
      "application/vnd.jupyter.widget-view+json": {
       "model_id": "b2db73b11db146c883a2150b57853489",
       "version_major": 2,
       "version_minor": 0
      },
      "text/plain": [
       "  0%|          | 0/20 [00:00<?, ?it/s]"
      ]
     },
     "metadata": {},
     "output_type": "display_data"
    },
    {
     "data": {
      "application/vnd.jupyter.widget-view+json": {
       "model_id": "5a56feea5d5f45f68355956f1c1935aa",
       "version_major": 2,
       "version_minor": 0
      },
      "text/plain": [
       "  0%|          | 0/20 [00:00<?, ?it/s]"
      ]
     },
     "metadata": {},
     "output_type": "display_data"
    },
    {
     "data": {
      "application/vnd.jupyter.widget-view+json": {
       "model_id": "581869addf27418ab471a1731b02b081",
       "version_major": 2,
       "version_minor": 0
      },
      "text/plain": [
       "  0%|          | 0/20 [00:00<?, ?it/s]"
      ]
     },
     "metadata": {},
     "output_type": "display_data"
    },
    {
     "data": {
      "application/vnd.jupyter.widget-view+json": {
       "model_id": "fdaf1488377e4a628656f2db0b55cf75",
       "version_major": 2,
       "version_minor": 0
      },
      "text/plain": [
       "  0%|          | 0/20 [00:00<?, ?it/s]"
      ]
     },
     "metadata": {},
     "output_type": "display_data"
    },
    {
     "data": {
      "application/vnd.jupyter.widget-view+json": {
       "model_id": "aeb6d014a50a4f7e93516a97365aacb2",
       "version_major": 2,
       "version_minor": 0
      },
      "text/plain": [
       "  0%|          | 0/20 [00:00<?, ?it/s]"
      ]
     },
     "metadata": {},
     "output_type": "display_data"
    },
    {
     "data": {
      "application/vnd.jupyter.widget-view+json": {
       "model_id": "c1f193a694fa4e658a5c2fa8fe91d039",
       "version_major": 2,
       "version_minor": 0
      },
      "text/plain": [
       "  0%|          | 0/20 [00:00<?, ?it/s]"
      ]
     },
     "metadata": {},
     "output_type": "display_data"
    },
    {
     "data": {
      "application/vnd.jupyter.widget-view+json": {
       "model_id": "5cafdfc023f64bf6abe6e27147770c61",
       "version_major": 2,
       "version_minor": 0
      },
      "text/plain": [
       "  0%|          | 0/20 [00:00<?, ?it/s]"
      ]
     },
     "metadata": {},
     "output_type": "display_data"
    },
    {
     "data": {
      "application/vnd.jupyter.widget-view+json": {
       "model_id": "7d72e91146bd43a6a99dde58c9c9ea20",
       "version_major": 2,
       "version_minor": 0
      },
      "text/plain": [
       "  0%|          | 0/20 [00:00<?, ?it/s]"
      ]
     },
     "metadata": {},
     "output_type": "display_data"
    },
    {
     "data": {
      "application/vnd.jupyter.widget-view+json": {
       "model_id": "3788c15df75b4b4a9e22936d80274208",
       "version_major": 2,
       "version_minor": 0
      },
      "text/plain": [
       "  0%|          | 0/20 [00:00<?, ?it/s]"
      ]
     },
     "metadata": {},
     "output_type": "display_data"
    },
    {
     "data": {
      "application/vnd.jupyter.widget-view+json": {
       "model_id": "788760660f954674830c72d5a59a00ba",
       "version_major": 2,
       "version_minor": 0
      },
      "text/plain": [
       "  0%|          | 0/20 [00:00<?, ?it/s]"
      ]
     },
     "metadata": {},
     "output_type": "display_data"
    },
    {
     "data": {
      "application/vnd.jupyter.widget-view+json": {
       "model_id": "b9abdf62dc6443d4b2ccb32706e03437",
       "version_major": 2,
       "version_minor": 0
      },
      "text/plain": [
       "  0%|          | 0/20 [00:00<?, ?it/s]"
      ]
     },
     "metadata": {},
     "output_type": "display_data"
    },
    {
     "data": {
      "application/vnd.jupyter.widget-view+json": {
       "model_id": "99de150e57c441c8b8873594f09e8087",
       "version_major": 2,
       "version_minor": 0
      },
      "text/plain": [
       "  0%|          | 0/20 [00:00<?, ?it/s]"
      ]
     },
     "metadata": {},
     "output_type": "display_data"
    },
    {
     "data": {
      "application/vnd.jupyter.widget-view+json": {
       "model_id": "d09bafce2bcd4dd3a15deced5e202760",
       "version_major": 2,
       "version_minor": 0
      },
      "text/plain": [
       "  0%|          | 0/20 [00:00<?, ?it/s]"
      ]
     },
     "metadata": {},
     "output_type": "display_data"
    },
    {
     "data": {
      "application/vnd.jupyter.widget-view+json": {
       "model_id": "dcb650748a5f45a7a8b36516996810e3",
       "version_major": 2,
       "version_minor": 0
      },
      "text/plain": [
       "  0%|          | 0/20 [00:00<?, ?it/s]"
      ]
     },
     "metadata": {},
     "output_type": "display_data"
    },
    {
     "data": {
      "application/vnd.jupyter.widget-view+json": {
       "model_id": "2c0d122b9f1b4b78a22b9d32df83a63c",
       "version_major": 2,
       "version_minor": 0
      },
      "text/plain": [
       "  0%|          | 0/20 [00:00<?, ?it/s]"
      ]
     },
     "metadata": {},
     "output_type": "display_data"
    },
    {
     "data": {
      "application/vnd.jupyter.widget-view+json": {
       "model_id": "9f445652f5004d2fb53d568ab68ab1c4",
       "version_major": 2,
       "version_minor": 0
      },
      "text/plain": [
       "  0%|          | 0/20 [00:00<?, ?it/s]"
      ]
     },
     "metadata": {},
     "output_type": "display_data"
    },
    {
     "data": {
      "application/vnd.jupyter.widget-view+json": {
       "model_id": "facc99d97c114566bdb26e56da02946a",
       "version_major": 2,
       "version_minor": 0
      },
      "text/plain": [
       "  0%|          | 0/20 [00:00<?, ?it/s]"
      ]
     },
     "metadata": {},
     "output_type": "display_data"
    },
    {
     "data": {
      "application/vnd.jupyter.widget-view+json": {
       "model_id": "7c6306a10839453d90b64fdb3a24e943",
       "version_major": 2,
       "version_minor": 0
      },
      "text/plain": [
       "  0%|          | 0/20 [00:00<?, ?it/s]"
      ]
     },
     "metadata": {},
     "output_type": "display_data"
    },
    {
     "data": {
      "application/vnd.jupyter.widget-view+json": {
       "model_id": "aef465a1c7194f9a9f2ca4e529a3f2a3",
       "version_major": 2,
       "version_minor": 0
      },
      "text/plain": [
       "  0%|          | 0/20 [00:00<?, ?it/s]"
      ]
     },
     "metadata": {},
     "output_type": "display_data"
    },
    {
     "data": {
      "application/vnd.jupyter.widget-view+json": {
       "model_id": "f839a79b18bd48b6acdde1fdc8292955",
       "version_major": 2,
       "version_minor": 0
      },
      "text/plain": [
       "  0%|          | 0/20 [00:00<?, ?it/s]"
      ]
     },
     "metadata": {},
     "output_type": "display_data"
    },
    {
     "data": {
      "application/vnd.jupyter.widget-view+json": {
       "model_id": "ab4ec95ccbfd4e07b6640307b77f1e4a",
       "version_major": 2,
       "version_minor": 0
      },
      "text/plain": [
       "  0%|          | 0/20 [00:00<?, ?it/s]"
      ]
     },
     "metadata": {},
     "output_type": "display_data"
    },
    {
     "data": {
      "application/vnd.jupyter.widget-view+json": {
       "model_id": "3a861b6c3ead47bc87c443e416931115",
       "version_major": 2,
       "version_minor": 0
      },
      "text/plain": [
       "  0%|          | 0/20 [00:00<?, ?it/s]"
      ]
     },
     "metadata": {},
     "output_type": "display_data"
    },
    {
     "data": {
      "application/vnd.jupyter.widget-view+json": {
       "model_id": "6942052c33c24388a22e2975ec8f05cd",
       "version_major": 2,
       "version_minor": 0
      },
      "text/plain": [
       "  0%|          | 0/20 [00:02<?, ?it/s]"
      ]
     },
     "metadata": {},
     "output_type": "display_data"
    },
    {
     "data": {
      "application/vnd.jupyter.widget-view+json": {
       "model_id": "96d555c9ddf047a5b221f4cba928f428",
       "version_major": 2,
       "version_minor": 0
      },
      "text/plain": [
       "  0%|          | 0/20 [00:00<?, ?it/s]"
      ]
     },
     "metadata": {},
     "output_type": "display_data"
    },
    {
     "data": {
      "application/vnd.jupyter.widget-view+json": {
       "model_id": "89dfa9103601481cb54d8452d6ea2b26",
       "version_major": 2,
       "version_minor": 0
      },
      "text/plain": [
       "  0%|          | 0/20 [00:00<?, ?it/s]"
      ]
     },
     "metadata": {},
     "output_type": "display_data"
    },
    {
     "data": {
      "application/vnd.jupyter.widget-view+json": {
       "model_id": "2326b504d1b54a86aa24cee46556fbcf",
       "version_major": 2,
       "version_minor": 0
      },
      "text/plain": [
       "  0%|          | 0/20 [00:00<?, ?it/s]"
      ]
     },
     "metadata": {},
     "output_type": "display_data"
    },
    {
     "data": {
      "application/vnd.jupyter.widget-view+json": {
       "model_id": "2d6b9717f9ee4e23aeb6171899157275",
       "version_major": 2,
       "version_minor": 0
      },
      "text/plain": [
       "  0%|          | 0/20 [00:00<?, ?it/s]"
      ]
     },
     "metadata": {},
     "output_type": "display_data"
    },
    {
     "data": {
      "application/vnd.jupyter.widget-view+json": {
       "model_id": "ef73e30eff934ca98c5d67af6e89520c",
       "version_major": 2,
       "version_minor": 0
      },
      "text/plain": [
       "  0%|          | 0/20 [00:00<?, ?it/s]"
      ]
     },
     "metadata": {},
     "output_type": "display_data"
    },
    {
     "data": {
      "application/vnd.jupyter.widget-view+json": {
       "model_id": "08405ac6877f4f9ba9e85bc7fcc9f9b8",
       "version_major": 2,
       "version_minor": 0
      },
      "text/plain": [
       "  0%|          | 0/20 [00:00<?, ?it/s]"
      ]
     },
     "metadata": {},
     "output_type": "display_data"
    },
    {
     "data": {
      "application/vnd.jupyter.widget-view+json": {
       "model_id": "7def2a3da6784fdca98489389ee098e0",
       "version_major": 2,
       "version_minor": 0
      },
      "text/plain": [
       "  0%|          | 0/20 [00:00<?, ?it/s]"
      ]
     },
     "metadata": {},
     "output_type": "display_data"
    },
    {
     "data": {
      "application/vnd.jupyter.widget-view+json": {
       "model_id": "9e8a969749264a04aac010873db981c2",
       "version_major": 2,
       "version_minor": 0
      },
      "text/plain": [
       "  0%|          | 0/20 [00:00<?, ?it/s]"
      ]
     },
     "metadata": {},
     "output_type": "display_data"
    },
    {
     "data": {
      "application/vnd.jupyter.widget-view+json": {
       "model_id": "d436dde48f874df9bd7d274b01684a16",
       "version_major": 2,
       "version_minor": 0
      },
      "text/plain": [
       "  0%|          | 0/20 [00:00<?, ?it/s]"
      ]
     },
     "metadata": {},
     "output_type": "display_data"
    },
    {
     "data": {
      "application/vnd.jupyter.widget-view+json": {
       "model_id": "c0a663cca14d406ba233520f6817fa45",
       "version_major": 2,
       "version_minor": 0
      },
      "text/plain": [
       "  0%|          | 0/20 [00:00<?, ?it/s]"
      ]
     },
     "metadata": {},
     "output_type": "display_data"
    },
    {
     "data": {
      "application/vnd.jupyter.widget-view+json": {
       "model_id": "61fefd96b4a14fe88f29d5c31426ef47",
       "version_major": 2,
       "version_minor": 0
      },
      "text/plain": [
       "  0%|          | 0/20 [00:00<?, ?it/s]"
      ]
     },
     "metadata": {},
     "output_type": "display_data"
    },
    {
     "data": {
      "application/vnd.jupyter.widget-view+json": {
       "model_id": "e9d331b1bef34298a4bc0c02a5fefd78",
       "version_major": 2,
       "version_minor": 0
      },
      "text/plain": [
       "  0%|          | 0/20 [00:00<?, ?it/s]"
      ]
     },
     "metadata": {},
     "output_type": "display_data"
    },
    {
     "data": {
      "application/vnd.jupyter.widget-view+json": {
       "model_id": "b30dfa5d96f8494f8c89d3271dfa3daf",
       "version_major": 2,
       "version_minor": 0
      },
      "text/plain": [
       "  0%|          | 0/20 [00:00<?, ?it/s]"
      ]
     },
     "metadata": {},
     "output_type": "display_data"
    },
    {
     "data": {
      "application/vnd.jupyter.widget-view+json": {
       "model_id": "6cd1f3d21b994e5083d8eb48b0952db5",
       "version_major": 2,
       "version_minor": 0
      },
      "text/plain": [
       "  0%|          | 0/20 [00:00<?, ?it/s]"
      ]
     },
     "metadata": {},
     "output_type": "display_data"
    },
    {
     "data": {
      "application/vnd.jupyter.widget-view+json": {
       "model_id": "342f506c6e86425a8e8c97d1cb0d9bb9",
       "version_major": 2,
       "version_minor": 0
      },
      "text/plain": [
       "  0%|          | 0/20 [00:00<?, ?it/s]"
      ]
     },
     "metadata": {},
     "output_type": "display_data"
    },
    {
     "data": {
      "application/vnd.jupyter.widget-view+json": {
       "model_id": "0000d301cc0c475a91b839846a1a5cfb",
       "version_major": 2,
       "version_minor": 0
      },
      "text/plain": [
       "  0%|          | 0/20 [00:00<?, ?it/s]"
      ]
     },
     "metadata": {},
     "output_type": "display_data"
    },
    {
     "data": {
      "application/vnd.jupyter.widget-view+json": {
       "model_id": "709e3f4bd93d442aba64fbe5c40f42f0",
       "version_major": 2,
       "version_minor": 0
      },
      "text/plain": [
       "  0%|          | 0/20 [00:00<?, ?it/s]"
      ]
     },
     "metadata": {},
     "output_type": "display_data"
    },
    {
     "data": {
      "application/vnd.jupyter.widget-view+json": {
       "model_id": "e491e609ae6e46969d160fa61540f35e",
       "version_major": 2,
       "version_minor": 0
      },
      "text/plain": [
       "  0%|          | 0/20 [00:00<?, ?it/s]"
      ]
     },
     "metadata": {},
     "output_type": "display_data"
    },
    {
     "data": {
      "application/vnd.jupyter.widget-view+json": {
       "model_id": "33376c719dd24628b8041904a1760eb9",
       "version_major": 2,
       "version_minor": 0
      },
      "text/plain": [
       "  0%|          | 0/20 [00:00<?, ?it/s]"
      ]
     },
     "metadata": {},
     "output_type": "display_data"
    },
    {
     "data": {
      "application/vnd.jupyter.widget-view+json": {
       "model_id": "d9795a9c79cd4a418585b1f964af94e8",
       "version_major": 2,
       "version_minor": 0
      },
      "text/plain": [
       "  0%|          | 0/20 [00:00<?, ?it/s]"
      ]
     },
     "metadata": {},
     "output_type": "display_data"
    },
    {
     "data": {
      "application/vnd.jupyter.widget-view+json": {
       "model_id": "dbeaa7a0d7bf43748cb94551229a378e",
       "version_major": 2,
       "version_minor": 0
      },
      "text/plain": [
       "  0%|          | 0/20 [00:00<?, ?it/s]"
      ]
     },
     "metadata": {},
     "output_type": "display_data"
    },
    {
     "data": {
      "application/vnd.jupyter.widget-view+json": {
       "model_id": "27af3e5b554040278c4e317032bd059a",
       "version_major": 2,
       "version_minor": 0
      },
      "text/plain": [
       "  0%|          | 0/20 [00:00<?, ?it/s]"
      ]
     },
     "metadata": {},
     "output_type": "display_data"
    },
    {
     "data": {
      "application/vnd.jupyter.widget-view+json": {
       "model_id": "897ede0e67e546e887c97902a903b341",
       "version_major": 2,
       "version_minor": 0
      },
      "text/plain": [
       "  0%|          | 0/20 [00:00<?, ?it/s]"
      ]
     },
     "metadata": {},
     "output_type": "display_data"
    },
    {
     "data": {
      "application/vnd.jupyter.widget-view+json": {
       "model_id": "2482a23371384aa9b924200980e5394a",
       "version_major": 2,
       "version_minor": 0
      },
      "text/plain": [
       "  0%|          | 0/20 [00:00<?, ?it/s]"
      ]
     },
     "metadata": {},
     "output_type": "display_data"
    },
    {
     "data": {
      "application/vnd.jupyter.widget-view+json": {
       "model_id": "e8bd4aaa03ab471d9232f0381248738a",
       "version_major": 2,
       "version_minor": 0
      },
      "text/plain": [
       "  0%|          | 0/20 [00:00<?, ?it/s]"
      ]
     },
     "metadata": {},
     "output_type": "display_data"
    },
    {
     "data": {
      "application/vnd.jupyter.widget-view+json": {
       "model_id": "0a3b0701be0249998ff3628966c67df7",
       "version_major": 2,
       "version_minor": 0
      },
      "text/plain": [
       "  0%|          | 0/20 [00:00<?, ?it/s]"
      ]
     },
     "metadata": {},
     "output_type": "display_data"
    },
    {
     "data": {
      "application/vnd.jupyter.widget-view+json": {
       "model_id": "a8e27906694141e186008a66d6a83ed8",
       "version_major": 2,
       "version_minor": 0
      },
      "text/plain": [
       "  0%|          | 0/20 [00:00<?, ?it/s]"
      ]
     },
     "metadata": {},
     "output_type": "display_data"
    },
    {
     "data": {
      "application/vnd.jupyter.widget-view+json": {
       "model_id": "0060d52074274530b55fcdc93e9fc90a",
       "version_major": 2,
       "version_minor": 0
      },
      "text/plain": [
       "  0%|          | 0/20 [00:00<?, ?it/s]"
      ]
     },
     "metadata": {},
     "output_type": "display_data"
    },
    {
     "data": {
      "application/vnd.jupyter.widget-view+json": {
       "model_id": "3a54657696d745a98cbf3c3945b29bbe",
       "version_major": 2,
       "version_minor": 0
      },
      "text/plain": [
       "  0%|          | 0/20 [00:00<?, ?it/s]"
      ]
     },
     "metadata": {},
     "output_type": "display_data"
    },
    {
     "data": {
      "application/vnd.jupyter.widget-view+json": {
       "model_id": "05342ed918d9493ba30b770648b530ea",
       "version_major": 2,
       "version_minor": 0
      },
      "text/plain": [
       "  0%|          | 0/20 [00:00<?, ?it/s]"
      ]
     },
     "metadata": {},
     "output_type": "display_data"
    },
    {
     "data": {
      "application/vnd.jupyter.widget-view+json": {
       "model_id": "2e9646c0fa334d8eb297d6b67edcc202",
       "version_major": 2,
       "version_minor": 0
      },
      "text/plain": [
       "  0%|          | 0/20 [00:00<?, ?it/s]"
      ]
     },
     "metadata": {},
     "output_type": "display_data"
    },
    {
     "data": {
      "application/vnd.jupyter.widget-view+json": {
       "model_id": "95038c1eaefc4d7f853df3b57e421ce6",
       "version_major": 2,
       "version_minor": 0
      },
      "text/plain": [
       "  0%|          | 0/20 [00:00<?, ?it/s]"
      ]
     },
     "metadata": {},
     "output_type": "display_data"
    },
    {
     "data": {
      "application/vnd.jupyter.widget-view+json": {
       "model_id": "6a6b1f03d5df430d82d6a476fab0e068",
       "version_major": 2,
       "version_minor": 0
      },
      "text/plain": [
       "  0%|          | 0/20 [00:00<?, ?it/s]"
      ]
     },
     "metadata": {},
     "output_type": "display_data"
    },
    {
     "data": {
      "application/vnd.jupyter.widget-view+json": {
       "model_id": "af9f7c0e04fa42db907e4a3c1af7dcee",
       "version_major": 2,
       "version_minor": 0
      },
      "text/plain": [
       "  0%|          | 0/20 [00:00<?, ?it/s]"
      ]
     },
     "metadata": {},
     "output_type": "display_data"
    },
    {
     "data": {
      "application/vnd.jupyter.widget-view+json": {
       "model_id": "8257733ee35941d0856747c91f257fb0",
       "version_major": 2,
       "version_minor": 0
      },
      "text/plain": [
       "  0%|          | 0/20 [00:00<?, ?it/s]"
      ]
     },
     "metadata": {},
     "output_type": "display_data"
    },
    {
     "data": {
      "application/vnd.jupyter.widget-view+json": {
       "model_id": "3f0f707d5f44463488fb5084d216142d",
       "version_major": 2,
       "version_minor": 0
      },
      "text/plain": [
       "  0%|          | 0/20 [00:00<?, ?it/s]"
      ]
     },
     "metadata": {},
     "output_type": "display_data"
    },
    {
     "data": {
      "application/vnd.jupyter.widget-view+json": {
       "model_id": "aff1762a6478456eb2d2bebedc9f8cf5",
       "version_major": 2,
       "version_minor": 0
      },
      "text/plain": [
       "  0%|          | 0/20 [00:00<?, ?it/s]"
      ]
     },
     "metadata": {},
     "output_type": "display_data"
    },
    {
     "data": {
      "application/vnd.jupyter.widget-view+json": {
       "model_id": "8dd772639cd14df69aa2345a2f509c75",
       "version_major": 2,
       "version_minor": 0
      },
      "text/plain": [
       "  0%|          | 0/20 [00:00<?, ?it/s]"
      ]
     },
     "metadata": {},
     "output_type": "display_data"
    },
    {
     "data": {
      "application/vnd.jupyter.widget-view+json": {
       "model_id": "fcf1c1b0e7eb4108a34660fb72136f84",
       "version_major": 2,
       "version_minor": 0
      },
      "text/plain": [
       "  0%|          | 0/20 [00:00<?, ?it/s]"
      ]
     },
     "metadata": {},
     "output_type": "display_data"
    },
    {
     "data": {
      "application/vnd.jupyter.widget-view+json": {
       "model_id": "07f9a0d083dc4274a330cffa96611920",
       "version_major": 2,
       "version_minor": 0
      },
      "text/plain": [
       "  0%|          | 0/20 [00:00<?, ?it/s]"
      ]
     },
     "metadata": {},
     "output_type": "display_data"
    },
    {
     "data": {
      "application/vnd.jupyter.widget-view+json": {
       "model_id": "684c91a654624bbb8a90a3f42f1ed18c",
       "version_major": 2,
       "version_minor": 0
      },
      "text/plain": [
       "  0%|          | 0/20 [00:00<?, ?it/s]"
      ]
     },
     "metadata": {},
     "output_type": "display_data"
    },
    {
     "data": {
      "application/vnd.jupyter.widget-view+json": {
       "model_id": "7b676f078cef4bc4a5cadd6f2a737785",
       "version_major": 2,
       "version_minor": 0
      },
      "text/plain": [
       "  0%|          | 0/20 [00:00<?, ?it/s]"
      ]
     },
     "metadata": {},
     "output_type": "display_data"
    },
    {
     "ename": "KeyboardInterrupt",
     "evalue": "",
     "output_type": "error",
     "traceback": [
      "\u001b[0;31m---------------------------------------------------------------------------\u001b[0m",
      "\u001b[0;31mKeyboardInterrupt\u001b[0m                         Traceback (most recent call last)",
      "Input \u001b[0;32mIn [41]\u001b[0m, in \u001b[0;36m<cell line: 4>\u001b[0;34m()\u001b[0m\n\u001b[1;32m     12\u001b[0m links \u001b[38;5;241m=\u001b[39m scrape_links()\n\u001b[1;32m     14\u001b[0m \u001b[38;5;28;01mfor\u001b[39;00m link \u001b[38;5;129;01min\u001b[39;00m tqdm(links):\n\u001b[0;32m---> 15\u001b[0m     data \u001b[38;5;241m=\u001b[39m \u001b[43mscrape_elems\u001b[49m\u001b[43m(\u001b[49m\u001b[43mlink\u001b[49m\u001b[43m)\u001b[49m\n\u001b[1;32m     16\u001b[0m     proj_data\u001b[38;5;241m.\u001b[39mappend(data)\n\u001b[1;32m     18\u001b[0m final_df \u001b[38;5;241m=\u001b[39m project_data_to_df(proj_data, final_df)\n",
      "Input \u001b[0;32mIn [32]\u001b[0m, in \u001b[0;36mscrape_elems\u001b[0;34m(link)\u001b[0m\n\u001b[1;32m      4\u001b[0m browser\u001b[38;5;241m.\u001b[39mget(link)\n\u001b[1;32m      5\u001b[0m WebDriverWait(browser, timeout)\u001b[38;5;241m.\u001b[39muntil(\n\u001b[1;32m      6\u001b[0m                 \u001b[38;5;28;01mlambda\u001b[39;00m browser: browser\u001b[38;5;241m.\u001b[39mfind_element(By\u001b[38;5;241m.\u001b[39mXPATH, \u001b[38;5;124m\"\u001b[39m\u001b[38;5;124m//div[@id=\u001b[39m\u001b[38;5;124m'\u001b[39m\u001b[38;5;124mwinner-aims\u001b[39m\u001b[38;5;124m'\u001b[39m\u001b[38;5;124m]\u001b[39m\u001b[38;5;124m\"\u001b[39m))\n\u001b[0;32m----> 7\u001b[0m \u001b[43mtime\u001b[49m\u001b[38;5;241;43m.\u001b[39;49m\u001b[43msleep\u001b[49m\u001b[43m(\u001b[49m\u001b[38;5;241;43m2\u001b[39;49m\u001b[43m)\u001b[49m\n\u001b[1;32m      9\u001b[0m status \u001b[38;5;241m=\u001b[39m browser\u001b[38;5;241m.\u001b[39mfind_element_by_xpath(\u001b[38;5;124m\"\u001b[39m\u001b[38;5;124m//p[@class=\u001b[39m\u001b[38;5;124m'\u001b[39m\u001b[38;5;124mwinner-info__status\u001b[39m\u001b[38;5;124m'\u001b[39m\u001b[38;5;124m]//span\u001b[39m\u001b[38;5;124m\"\u001b[39m)\u001b[38;5;241m.\u001b[39mtext\n\u001b[1;32m     10\u001b[0m title \u001b[38;5;241m=\u001b[39m browser\u001b[38;5;241m.\u001b[39mfind_element_by_tag_name(\u001b[38;5;124m'\u001b[39m\u001b[38;5;124mh2\u001b[39m\u001b[38;5;124m'\u001b[39m)\u001b[38;5;241m.\u001b[39mtext\n",
      "\u001b[0;31mKeyboardInterrupt\u001b[0m: "
     ]
    }
   ],
   "source": [
    "proj_data = []\n",
    "# final_df = None\n",
    "\n",
    "for page in tqdm(range(99, 191)): # 89 -> 191\n",
    "    start_url = f'https://президентскиегранты.рф/public/application/cards?SearchString=&Statuses%5B0%5D.Name=%D0%BF%D0%BE%D0%B1%D0%B5%D0%B4%D0%B8%D1%82%D0%B5%D0%BB%D1%8C+%D0%BA%D0%BE%D0%BD%D0%BA%D1%83%D1%80%D1%81%D0%B0&Statuses%5B1%5D.Name=%D0%BD%D0%B0+%D0%BD%D0%B5%D0%B7%D0%B0%D0%B2%D0%B8%D1%81%D0%B8%D0%BC%D0%BE%D0%B9+%D1%8D%D0%BA%D1%81%D0%BF%D0%B5%D1%80%D1%82%D0%B8%D0%B7%D0%B5&Statuses%5B2%5D.Name=%D0%BF%D1%80%D0%BE%D0%B5%D0%BA%D1%82+%D0%BD%D0%B5+%D0%BF%D0%BE%D0%BB%D1%83%D1%87%D0%B8%D0%BB+%D0%BF%D0%BE%D0%B4%D0%B4%D0%B5%D1%80%D0%B6%D0%BA%D1%83&RegionId=&AreaCityId=&ContestDirectionTenantId=36568399-3aff-45f4-b418-d5362caf4595&IsNormalTermProjects=true&IsLongTermProjects=true&CompetitionId=&DateFrom=&DateTo=&Statuses%5B0%5D.Selected=false&Statuses%5B1%5D.Selected=false&Statuses%5B2%5D.Selected=false&IsNormalTermProjects=false&IsLongTermProjects=false&page={page}'\n",
    "    \n",
    "    browser.get(start_url)\n",
    "    WebDriverWait(browser, timeout).until(\n",
    "                        lambda browser: browser.find_element(By.XPATH, \"//div[@class='table table--p-present table--projects']\"))\n",
    "\n",
    "    time.sleep(2)\n",
    "    links = scrape_links()\n",
    "\n",
    "    for link in tqdm(links):\n",
    "        data = scrape_elems(link)\n",
    "        proj_data.append(data)\n",
    "    \n",
    "    final_df = project_data_to_df(proj_data, final_df)\n",
    "    final_df.to_csv('data/project_grants_data.csv')\n",
    "    proj_data.clear()"
   ]
  },
  {
   "cell_type": "code",
   "execution_count": 44,
   "id": "48b432e7",
   "metadata": {},
   "outputs": [
    {
     "data": {
      "text/plain": [
       "98.0"
      ]
     },
     "execution_count": 44,
     "metadata": {},
     "output_type": "execute_result"
    }
   ],
   "source": [
    "final_df.shape[0] / 20"
   ]
  },
  {
   "cell_type": "code",
   "execution_count": 50,
   "id": "b1a7cf48",
   "metadata": {},
   "outputs": [
    {
     "data": {
      "text/html": [
       "<div>\n",
       "<style scoped>\n",
       "    .dataframe tbody tr th:only-of-type {\n",
       "        vertical-align: middle;\n",
       "    }\n",
       "\n",
       "    .dataframe tbody tr th {\n",
       "        vertical-align: top;\n",
       "    }\n",
       "\n",
       "    .dataframe thead th {\n",
       "        text-align: right;\n",
       "    }\n",
       "</style>\n",
       "<table border=\"1\" class=\"dataframe\">\n",
       "  <thead>\n",
       "    <tr style=\"text-align: right;\">\n",
       "      <th></th>\n",
       "      <th>status</th>\n",
       "      <th>title</th>\n",
       "      <th>links</th>\n",
       "      <th>competition_year</th>\n",
       "      <th>grant_direction</th>\n",
       "      <th>app_number</th>\n",
       "      <th>app_date</th>\n",
       "      <th>implementation_terms</th>\n",
       "      <th>organization</th>\n",
       "      <th>inn</th>\n",
       "      <th>ogrn</th>\n",
       "      <th>summary</th>\n",
       "      <th>target</th>\n",
       "    </tr>\n",
       "  </thead>\n",
       "  <tbody>\n",
       "    <tr>\n",
       "      <th>15</th>\n",
       "      <td>проект не получил поддержку</td>\n",
       "      <td>TAJU - портал о нематериальном культурном насл...</td>\n",
       "      <td>https://xn--80afcdbalict6afooklqi5o.xn--p1ai/p...</td>\n",
       "      <td>Первый конкурс 2022</td>\n",
       "      <td>Укрепление межнационального и межрелигиозного ...</td>\n",
       "      <td>22-1-010440</td>\n",
       "      <td>13.10.2021</td>\n",
       "      <td>01.02.2022 - 31.12.2022</td>\n",
       "      <td>АВТОНОМНАЯ НЕКОММЕРЧЕСКАЯ ОРГАНИЗАЦИЯ \"ЦЕНТР К...</td>\n",
       "      <td>1001350120</td>\n",
       "      <td>1201000006459</td>\n",
       "      <td>Будущий 2022 год объявлен Президентом РФ В.В. ...</td>\n",
       "      <td>Содействие сохранению и популяризации народног...</td>\n",
       "    </tr>\n",
       "    <tr>\n",
       "      <th>1</th>\n",
       "      <td>проект не получил поддержку</td>\n",
       "      <td>Друзья</td>\n",
       "      <td>https://xn--80afcdbalict6afooklqi5o.xn--p1ai/p...</td>\n",
       "      <td>Первый конкурс 2022</td>\n",
       "      <td>Укрепление межнационального и межрелигиозного ...</td>\n",
       "      <td>22-1-017331</td>\n",
       "      <td>15.10.2021</td>\n",
       "      <td>01.03.2022 - 31.05.2022</td>\n",
       "      <td>БЕЛГОРОДСКАЯ МЕСТНАЯ ОБЩЕСТВЕННАЯ ОРГАНИЗАЦИЯ ...</td>\n",
       "      <td>3123449271</td>\n",
       "      <td>1193100000048</td>\n",
       "      <td>Важным институтом социализации наряду с семьей...</td>\n",
       "      <td>Сохранение и укрепление межнационального мира ...</td>\n",
       "    </tr>\n",
       "    <tr>\n",
       "      <th>9</th>\n",
       "      <td>победитель конкурса</td>\n",
       "      <td>В дружбе народов - единство России</td>\n",
       "      <td>https://xn--80afcdbalict6afooklqi5o.xn--p1ai/p...</td>\n",
       "      <td>Второй конкурс 2019</td>\n",
       "      <td>Укрепление межнационального и межрелигиозного ...</td>\n",
       "      <td>19-2-010658</td>\n",
       "      <td>31.07.2019</td>\n",
       "      <td>01.11.2019 - 30.09.2020</td>\n",
       "      <td>Территориальное общественное самоуправление \"Т...</td>\n",
       "      <td>3416004579</td>\n",
       "      <td>1093400006864</td>\n",
       "      <td>Миграционные процессы как неотъемлемая часть ж...</td>\n",
       "      <td>Создание условий для формирования уважения к и...</td>\n",
       "    </tr>\n",
       "    <tr>\n",
       "      <th>9</th>\n",
       "      <td>проект не получил поддержку</td>\n",
       "      <td>Создание татарского этнокультурного кластера Р...</td>\n",
       "      <td>https://xn--80afcdbalict6afooklqi5o.xn--p1ai/p...</td>\n",
       "      <td>Второй конкурс 2020</td>\n",
       "      <td>Укрепление межнационального и межрелигиозного ...</td>\n",
       "      <td>20-2-004536</td>\n",
       "      <td>23.03.2020</td>\n",
       "      <td>01.08.2020 - 31.12.2021</td>\n",
       "      <td>ОБЩЕСТВЕННАЯ ОРГАНИЗАЦИЯ \"САСОВСКАЯ МЕСТНАЯ ТА...</td>\n",
       "      <td>6234990160</td>\n",
       "      <td>1116200000982</td>\n",
       "      <td>Проект представляет собой комплекс мер, направ...</td>\n",
       "      <td>Создание комплекса мер, направленных на сохран...</td>\n",
       "    </tr>\n",
       "    <tr>\n",
       "      <th>3</th>\n",
       "      <td>проект не получил поддержку</td>\n",
       "      <td>Москва добрососедская</td>\n",
       "      <td>https://xn--80afcdbalict6afooklqi5o.xn--p1ai/p...</td>\n",
       "      <td>Первый конкурс 2020</td>\n",
       "      <td>Укрепление межнационального и межрелигиозного ...</td>\n",
       "      <td>20-1-031211</td>\n",
       "      <td>26.11.2019</td>\n",
       "      <td>02.03.2020 - 30.11.2020</td>\n",
       "      <td>Региональная общественная организация - Татарс...</td>\n",
       "      <td>7705232290</td>\n",
       "      <td>1037700106201</td>\n",
       "      <td>Проект является продолжением реализованного в ...</td>\n",
       "      <td>Организация комплексной и системной работы по ...</td>\n",
       "    </tr>\n",
       "  </tbody>\n",
       "</table>\n",
       "</div>"
      ],
      "text/plain": [
       "                         status  \\\n",
       "15  проект не получил поддержку   \n",
       "1   проект не получил поддержку   \n",
       "9           победитель конкурса   \n",
       "9   проект не получил поддержку   \n",
       "3   проект не получил поддержку   \n",
       "\n",
       "                                                title  \\\n",
       "15  TAJU - портал о нематериальном культурном насл...   \n",
       "1                                              Друзья   \n",
       "9                  В дружбе народов - единство России   \n",
       "9   Создание татарского этнокультурного кластера Р...   \n",
       "3                               Москва добрососедская   \n",
       "\n",
       "                                                links     competition_year  \\\n",
       "15  https://xn--80afcdbalict6afooklqi5o.xn--p1ai/p...  Первый конкурс 2022   \n",
       "1   https://xn--80afcdbalict6afooklqi5o.xn--p1ai/p...  Первый конкурс 2022   \n",
       "9   https://xn--80afcdbalict6afooklqi5o.xn--p1ai/p...  Второй конкурс 2019   \n",
       "9   https://xn--80afcdbalict6afooklqi5o.xn--p1ai/p...  Второй конкурс 2020   \n",
       "3   https://xn--80afcdbalict6afooklqi5o.xn--p1ai/p...  Первый конкурс 2020   \n",
       "\n",
       "                                      grant_direction   app_number  \\\n",
       "15  Укрепление межнационального и межрелигиозного ...  22-1-010440   \n",
       "1   Укрепление межнационального и межрелигиозного ...  22-1-017331   \n",
       "9   Укрепление межнационального и межрелигиозного ...  19-2-010658   \n",
       "9   Укрепление межнационального и межрелигиозного ...  20-2-004536   \n",
       "3   Укрепление межнационального и межрелигиозного ...  20-1-031211   \n",
       "\n",
       "      app_date     implementation_terms  \\\n",
       "15  13.10.2021  01.02.2022 - 31.12.2022   \n",
       "1   15.10.2021  01.03.2022 - 31.05.2022   \n",
       "9   31.07.2019  01.11.2019 - 30.09.2020   \n",
       "9   23.03.2020  01.08.2020 - 31.12.2021   \n",
       "3   26.11.2019  02.03.2020 - 30.11.2020   \n",
       "\n",
       "                                         organization         inn  \\\n",
       "15  АВТОНОМНАЯ НЕКОММЕРЧЕСКАЯ ОРГАНИЗАЦИЯ \"ЦЕНТР К...  1001350120   \n",
       "1   БЕЛГОРОДСКАЯ МЕСТНАЯ ОБЩЕСТВЕННАЯ ОРГАНИЗАЦИЯ ...  3123449271   \n",
       "9   Территориальное общественное самоуправление \"Т...  3416004579   \n",
       "9   ОБЩЕСТВЕННАЯ ОРГАНИЗАЦИЯ \"САСОВСКАЯ МЕСТНАЯ ТА...  6234990160   \n",
       "3   Региональная общественная организация - Татарс...  7705232290   \n",
       "\n",
       "             ogrn                                            summary  \\\n",
       "15  1201000006459  Будущий 2022 год объявлен Президентом РФ В.В. ...   \n",
       "1   1193100000048  Важным институтом социализации наряду с семьей...   \n",
       "9   1093400006864  Миграционные процессы как неотъемлемая часть ж...   \n",
       "9   1116200000982  Проект представляет собой комплекс мер, направ...   \n",
       "3   1037700106201  Проект является продолжением реализованного в ...   \n",
       "\n",
       "                                               target  \n",
       "15  Содействие сохранению и популяризации народног...  \n",
       "1   Сохранение и укрепление межнационального мира ...  \n",
       "9   Создание условий для формирования уважения к и...  \n",
       "9   Создание комплекса мер, направленных на сохран...  \n",
       "3   Организация комплексной и системной работы по ...  "
      ]
     },
     "execution_count": 50,
     "metadata": {},
     "output_type": "execute_result"
    }
   ],
   "source": [
    "final_df.sample(5)"
   ]
  },
  {
   "cell_type": "code",
   "execution_count": 20,
   "id": "2a2da50a",
   "metadata": {},
   "outputs": [],
   "source": [
    "df = pd.DataFrame(proj_data, columns=cols)"
   ]
  },
  {
   "cell_type": "code",
   "execution_count": 40,
   "id": "3b2586b9",
   "metadata": {},
   "outputs": [
    {
     "data": {
      "text/plain": [
       "0"
      ]
     },
     "execution_count": 40,
     "metadata": {},
     "output_type": "execute_result"
    }
   ],
   "source": [
    "df.duplicated().sum()"
   ]
  },
  {
   "cell_type": "code",
   "execution_count": 27,
   "id": "60f57b7e",
   "metadata": {},
   "outputs": [],
   "source": [
    "df.to_csv('data/sample.csv')"
   ]
  },
  {
   "cell_type": "code",
   "execution_count": 43,
   "id": "9541e1aa",
   "metadata": {},
   "outputs": [
    {
     "data": {
      "text/plain": [
       "1960"
      ]
     },
     "execution_count": 43,
     "metadata": {},
     "output_type": "execute_result"
    }
   ],
   "source": [
    "(89 + 9) *20"
   ]
  },
  {
   "cell_type": "code",
   "execution_count": 49,
   "id": "f23ae786",
   "metadata": {},
   "outputs": [
    {
     "data": {
      "text/plain": [
       "(1960, 13)"
      ]
     },
     "execution_count": 49,
     "metadata": {},
     "output_type": "execute_result"
    }
   ],
   "source": [
    "pd.read_csv('data/project_grants_data.csv', index_col=0).shape"
   ]
  },
  {
   "cell_type": "code",
   "execution_count": 28,
   "id": "e4db5a2e",
   "metadata": {},
   "outputs": [
    {
     "name": "stdout",
     "output_type": "stream",
     "text": [
      "1\n",
      "2\n",
      "3\n",
      "4\n",
      "5\n",
      "6\n",
      "7\n",
      "8\n",
      "9\n",
      "10\n",
      "11\n",
      "12\n",
      "13\n",
      "14\n",
      "15\n",
      "16\n",
      "17\n",
      "18\n",
      "19\n",
      "20\n",
      "21\n",
      "22\n",
      "23\n",
      "24\n",
      "25\n",
      "26\n",
      "27\n",
      "28\n",
      "29\n",
      "30\n",
      "31\n",
      "32\n",
      "33\n",
      "34\n",
      "35\n",
      "36\n",
      "37\n",
      "38\n",
      "39\n",
      "40\n",
      "41\n",
      "42\n",
      "43\n",
      "44\n",
      "45\n",
      "46\n",
      "47\n",
      "48\n",
      "49\n",
      "50\n",
      "51\n",
      "52\n",
      "53\n",
      "54\n",
      "55\n",
      "56\n",
      "57\n",
      "58\n",
      "59\n",
      "60\n",
      "61\n",
      "62\n",
      "63\n",
      "64\n",
      "65\n",
      "66\n",
      "67\n",
      "68\n",
      "69\n",
      "70\n",
      "71\n",
      "72\n",
      "73\n",
      "74\n",
      "75\n",
      "76\n",
      "77\n",
      "78\n",
      "79\n",
      "80\n",
      "81\n",
      "82\n",
      "83\n",
      "84\n",
      "85\n",
      "86\n",
      "87\n",
      "88\n",
      "89\n",
      "90\n",
      "91\n",
      "92\n",
      "93\n",
      "94\n",
      "95\n",
      "96\n",
      "97\n",
      "98\n",
      "99\n",
      "100\n",
      "101\n",
      "102\n",
      "103\n",
      "104\n",
      "105\n",
      "106\n",
      "107\n",
      "108\n",
      "109\n",
      "110\n",
      "111\n",
      "112\n",
      "113\n",
      "114\n",
      "115\n",
      "116\n",
      "117\n",
      "118\n",
      "119\n",
      "120\n",
      "121\n",
      "122\n",
      "123\n",
      "124\n",
      "125\n",
      "126\n",
      "127\n",
      "128\n",
      "129\n",
      "130\n",
      "131\n",
      "132\n",
      "133\n",
      "134\n",
      "135\n",
      "136\n",
      "137\n",
      "138\n",
      "139\n",
      "140\n",
      "141\n",
      "142\n",
      "143\n",
      "144\n",
      "145\n",
      "146\n",
      "147\n",
      "148\n",
      "149\n",
      "150\n",
      "151\n",
      "152\n",
      "153\n",
      "154\n",
      "155\n",
      "156\n",
      "157\n",
      "158\n",
      "159\n",
      "160\n",
      "161\n",
      "162\n",
      "163\n",
      "164\n",
      "165\n",
      "166\n",
      "167\n",
      "168\n",
      "169\n",
      "170\n",
      "171\n",
      "172\n",
      "173\n",
      "174\n",
      "175\n",
      "176\n",
      "177\n",
      "178\n",
      "179\n",
      "180\n",
      "181\n",
      "182\n",
      "183\n",
      "184\n",
      "185\n",
      "186\n",
      "187\n",
      "188\n",
      "189\n",
      "190\n"
     ]
    }
   ],
   "source": [
    "for page in range(1, 191): print(page)"
   ]
  },
  {
   "cell_type": "code",
   "execution_count": null,
   "id": "d25fb66d",
   "metadata": {},
   "outputs": [],
   "source": []
  }
 ],
 "metadata": {
  "kernelspec": {
   "display_name": "Python 3 (ipykernel)",
   "language": "python",
   "name": "python3"
  },
  "language_info": {
   "codemirror_mode": {
    "name": "ipython",
    "version": 3
   },
   "file_extension": ".py",
   "mimetype": "text/x-python",
   "name": "python",
   "nbconvert_exporter": "python",
   "pygments_lexer": "ipython3",
   "version": "3.9.12"
  }
 },
 "nbformat": 4,
 "nbformat_minor": 5
}
